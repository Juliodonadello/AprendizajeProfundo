{
  "nbformat": 4,
  "nbformat_minor": 0,
  "metadata": {
    "colab": {
      "provenance": []
    },
    "kernelspec": {
      "name": "python3",
      "display_name": "Python 3"
    },
    "language_info": {
      "name": "python"
    }
  },
  "cells": [
    {
      "cell_type": "markdown",
      "source": [
        "# Universidad de Buenos Aires\n",
        "# Deep Learning - TP1\n",
        "# Julio 2024\n",
        "\n",
        "### Autor: Julio Agustín Donadello\n",
        "### Fecha de entrega: 28-07-2024"
      ],
      "metadata": {
        "id": "8TW4lX7nHYbc"
      }
    },
    {
      "cell_type": "markdown",
      "source": [
        "El TP comienza al momento de recibir este correo y la ventana de entrega estará abierta hasta el Domingo 28 de Julio inclusive. La resolución es individual. Pueden utilizar los contenidos vistos en clase y otra bibliografía. Si se toman ideas de fuentes externas deben ser correctamente citas incluyendo el correspondiente link o página de libro.\n",
        "\n",
        "El formato de entrega debe ser un “link a un colab” (compartir a las siguientes direcciones: alfonsorafel93@gmail.com y lelectronfou@gmail.com). Tanto los resultados, como el código y las explicaciones deben quedar guardados y\n",
        "visualizables en el colab. El colab debe poder ser ejecutado sin errores y las celdas no deben contener codigo que no corresponda con la ejecucion de las mismas.\n",
        "\n"
      ],
      "metadata": {
        "id": "QJt3OxgGIvs7"
      }
    },
    {
      "cell_type": "markdown",
      "source": [
        "---\n",
        "# 1. Análisis de datos\n",
        "\n",
        "Analizar el dataset para utilizar solamente las 200 películas con mayor cantidad de votos y los usuarios que hayan votado al menos 100 películas."
      ],
      "metadata": {
        "id": "619-o2wSr4Bh"
      }
    },
    {
      "cell_type": "code",
      "source": [
        "# Importo librerías\n",
        "import pandas as pd\n",
        "import numpy as np\n",
        "import matplotlib.pyplot as plt\n",
        "import seaborn as sns\n",
        "import warnings\n",
        "warnings.filterwarnings(\"ignore\")"
      ],
      "metadata": {
        "id": "vqmgByJKZF6r"
      },
      "execution_count": 29,
      "outputs": []
    },
    {
      "cell_type": "code",
      "source": [
        "from google.colab import drive\n",
        "drive.mount('/content/drive')"
      ],
      "metadata": {
        "colab": {
          "base_uri": "https://localhost:8080/"
        },
        "id": "NxE4G8QisJx0",
        "outputId": "4268b88c-4d44-4b12-a560-42e924eadc6a"
      },
      "execution_count": 30,
      "outputs": [
        {
          "output_type": "stream",
          "name": "stdout",
          "text": [
            "Mounted at /content/drive\n"
          ]
        }
      ]
    },
    {
      "cell_type": "code",
      "source": [
        "df = pd.read_csv(\"../content/drive/MyDrive/Colab Notebooks/ratings.csv\")"
      ],
      "metadata": {
        "id": "cIFqT9t-sMBf"
      },
      "execution_count": 31,
      "outputs": []
    },
    {
      "cell_type": "code",
      "source": [
        "df.head()"
      ],
      "metadata": {
        "colab": {
          "base_uri": "https://localhost:8080/",
          "height": 206
        },
        "id": "k0ppHfJ_jBlb",
        "outputId": "a03caa43-0fa5-41f0-cca4-00951aac1d5e"
      },
      "execution_count": 32,
      "outputs": [
        {
          "output_type": "execute_result",
          "data": {
            "text/plain": [
              "   userId  movieId  rating  timestamp\n",
              "0       1        1     4.0  964982703\n",
              "1       1        3     4.0  964981247\n",
              "2       1        6     4.0  964982224\n",
              "3       1       47     5.0  964983815\n",
              "4       1       50     5.0  964982931"
            ],
            "text/html": [
              "\n",
              "  <div id=\"df-d0bc6754-d69d-495a-a4bb-6871abc8f8da\" class=\"colab-df-container\">\n",
              "    <div>\n",
              "<style scoped>\n",
              "    .dataframe tbody tr th:only-of-type {\n",
              "        vertical-align: middle;\n",
              "    }\n",
              "\n",
              "    .dataframe tbody tr th {\n",
              "        vertical-align: top;\n",
              "    }\n",
              "\n",
              "    .dataframe thead th {\n",
              "        text-align: right;\n",
              "    }\n",
              "</style>\n",
              "<table border=\"1\" class=\"dataframe\">\n",
              "  <thead>\n",
              "    <tr style=\"text-align: right;\">\n",
              "      <th></th>\n",
              "      <th>userId</th>\n",
              "      <th>movieId</th>\n",
              "      <th>rating</th>\n",
              "      <th>timestamp</th>\n",
              "    </tr>\n",
              "  </thead>\n",
              "  <tbody>\n",
              "    <tr>\n",
              "      <th>0</th>\n",
              "      <td>1</td>\n",
              "      <td>1</td>\n",
              "      <td>4.0</td>\n",
              "      <td>964982703</td>\n",
              "    </tr>\n",
              "    <tr>\n",
              "      <th>1</th>\n",
              "      <td>1</td>\n",
              "      <td>3</td>\n",
              "      <td>4.0</td>\n",
              "      <td>964981247</td>\n",
              "    </tr>\n",
              "    <tr>\n",
              "      <th>2</th>\n",
              "      <td>1</td>\n",
              "      <td>6</td>\n",
              "      <td>4.0</td>\n",
              "      <td>964982224</td>\n",
              "    </tr>\n",
              "    <tr>\n",
              "      <th>3</th>\n",
              "      <td>1</td>\n",
              "      <td>47</td>\n",
              "      <td>5.0</td>\n",
              "      <td>964983815</td>\n",
              "    </tr>\n",
              "    <tr>\n",
              "      <th>4</th>\n",
              "      <td>1</td>\n",
              "      <td>50</td>\n",
              "      <td>5.0</td>\n",
              "      <td>964982931</td>\n",
              "    </tr>\n",
              "  </tbody>\n",
              "</table>\n",
              "</div>\n",
              "    <div class=\"colab-df-buttons\">\n",
              "\n",
              "  <div class=\"colab-df-container\">\n",
              "    <button class=\"colab-df-convert\" onclick=\"convertToInteractive('df-d0bc6754-d69d-495a-a4bb-6871abc8f8da')\"\n",
              "            title=\"Convert this dataframe to an interactive table.\"\n",
              "            style=\"display:none;\">\n",
              "\n",
              "  <svg xmlns=\"http://www.w3.org/2000/svg\" height=\"24px\" viewBox=\"0 -960 960 960\">\n",
              "    <path d=\"M120-120v-720h720v720H120Zm60-500h600v-160H180v160Zm220 220h160v-160H400v160Zm0 220h160v-160H400v160ZM180-400h160v-160H180v160Zm440 0h160v-160H620v160ZM180-180h160v-160H180v160Zm440 0h160v-160H620v160Z\"/>\n",
              "  </svg>\n",
              "    </button>\n",
              "\n",
              "  <style>\n",
              "    .colab-df-container {\n",
              "      display:flex;\n",
              "      gap: 12px;\n",
              "    }\n",
              "\n",
              "    .colab-df-convert {\n",
              "      background-color: #E8F0FE;\n",
              "      border: none;\n",
              "      border-radius: 50%;\n",
              "      cursor: pointer;\n",
              "      display: none;\n",
              "      fill: #1967D2;\n",
              "      height: 32px;\n",
              "      padding: 0 0 0 0;\n",
              "      width: 32px;\n",
              "    }\n",
              "\n",
              "    .colab-df-convert:hover {\n",
              "      background-color: #E2EBFA;\n",
              "      box-shadow: 0px 1px 2px rgba(60, 64, 67, 0.3), 0px 1px 3px 1px rgba(60, 64, 67, 0.15);\n",
              "      fill: #174EA6;\n",
              "    }\n",
              "\n",
              "    .colab-df-buttons div {\n",
              "      margin-bottom: 4px;\n",
              "    }\n",
              "\n",
              "    [theme=dark] .colab-df-convert {\n",
              "      background-color: #3B4455;\n",
              "      fill: #D2E3FC;\n",
              "    }\n",
              "\n",
              "    [theme=dark] .colab-df-convert:hover {\n",
              "      background-color: #434B5C;\n",
              "      box-shadow: 0px 1px 3px 1px rgba(0, 0, 0, 0.15);\n",
              "      filter: drop-shadow(0px 1px 2px rgba(0, 0, 0, 0.3));\n",
              "      fill: #FFFFFF;\n",
              "    }\n",
              "  </style>\n",
              "\n",
              "    <script>\n",
              "      const buttonEl =\n",
              "        document.querySelector('#df-d0bc6754-d69d-495a-a4bb-6871abc8f8da button.colab-df-convert');\n",
              "      buttonEl.style.display =\n",
              "        google.colab.kernel.accessAllowed ? 'block' : 'none';\n",
              "\n",
              "      async function convertToInteractive(key) {\n",
              "        const element = document.querySelector('#df-d0bc6754-d69d-495a-a4bb-6871abc8f8da');\n",
              "        const dataTable =\n",
              "          await google.colab.kernel.invokeFunction('convertToInteractive',\n",
              "                                                    [key], {});\n",
              "        if (!dataTable) return;\n",
              "\n",
              "        const docLinkHtml = 'Like what you see? Visit the ' +\n",
              "          '<a target=\"_blank\" href=https://colab.research.google.com/notebooks/data_table.ipynb>data table notebook</a>'\n",
              "          + ' to learn more about interactive tables.';\n",
              "        element.innerHTML = '';\n",
              "        dataTable['output_type'] = 'display_data';\n",
              "        await google.colab.output.renderOutput(dataTable, element);\n",
              "        const docLink = document.createElement('div');\n",
              "        docLink.innerHTML = docLinkHtml;\n",
              "        element.appendChild(docLink);\n",
              "      }\n",
              "    </script>\n",
              "  </div>\n",
              "\n",
              "\n",
              "<div id=\"df-1b13c337-fdb8-4ef4-afc1-934dc83b93ac\">\n",
              "  <button class=\"colab-df-quickchart\" onclick=\"quickchart('df-1b13c337-fdb8-4ef4-afc1-934dc83b93ac')\"\n",
              "            title=\"Suggest charts\"\n",
              "            style=\"display:none;\">\n",
              "\n",
              "<svg xmlns=\"http://www.w3.org/2000/svg\" height=\"24px\"viewBox=\"0 0 24 24\"\n",
              "     width=\"24px\">\n",
              "    <g>\n",
              "        <path d=\"M19 3H5c-1.1 0-2 .9-2 2v14c0 1.1.9 2 2 2h14c1.1 0 2-.9 2-2V5c0-1.1-.9-2-2-2zM9 17H7v-7h2v7zm4 0h-2V7h2v10zm4 0h-2v-4h2v4z\"/>\n",
              "    </g>\n",
              "</svg>\n",
              "  </button>\n",
              "\n",
              "<style>\n",
              "  .colab-df-quickchart {\n",
              "      --bg-color: #E8F0FE;\n",
              "      --fill-color: #1967D2;\n",
              "      --hover-bg-color: #E2EBFA;\n",
              "      --hover-fill-color: #174EA6;\n",
              "      --disabled-fill-color: #AAA;\n",
              "      --disabled-bg-color: #DDD;\n",
              "  }\n",
              "\n",
              "  [theme=dark] .colab-df-quickchart {\n",
              "      --bg-color: #3B4455;\n",
              "      --fill-color: #D2E3FC;\n",
              "      --hover-bg-color: #434B5C;\n",
              "      --hover-fill-color: #FFFFFF;\n",
              "      --disabled-bg-color: #3B4455;\n",
              "      --disabled-fill-color: #666;\n",
              "  }\n",
              "\n",
              "  .colab-df-quickchart {\n",
              "    background-color: var(--bg-color);\n",
              "    border: none;\n",
              "    border-radius: 50%;\n",
              "    cursor: pointer;\n",
              "    display: none;\n",
              "    fill: var(--fill-color);\n",
              "    height: 32px;\n",
              "    padding: 0;\n",
              "    width: 32px;\n",
              "  }\n",
              "\n",
              "  .colab-df-quickchart:hover {\n",
              "    background-color: var(--hover-bg-color);\n",
              "    box-shadow: 0 1px 2px rgba(60, 64, 67, 0.3), 0 1px 3px 1px rgba(60, 64, 67, 0.15);\n",
              "    fill: var(--button-hover-fill-color);\n",
              "  }\n",
              "\n",
              "  .colab-df-quickchart-complete:disabled,\n",
              "  .colab-df-quickchart-complete:disabled:hover {\n",
              "    background-color: var(--disabled-bg-color);\n",
              "    fill: var(--disabled-fill-color);\n",
              "    box-shadow: none;\n",
              "  }\n",
              "\n",
              "  .colab-df-spinner {\n",
              "    border: 2px solid var(--fill-color);\n",
              "    border-color: transparent;\n",
              "    border-bottom-color: var(--fill-color);\n",
              "    animation:\n",
              "      spin 1s steps(1) infinite;\n",
              "  }\n",
              "\n",
              "  @keyframes spin {\n",
              "    0% {\n",
              "      border-color: transparent;\n",
              "      border-bottom-color: var(--fill-color);\n",
              "      border-left-color: var(--fill-color);\n",
              "    }\n",
              "    20% {\n",
              "      border-color: transparent;\n",
              "      border-left-color: var(--fill-color);\n",
              "      border-top-color: var(--fill-color);\n",
              "    }\n",
              "    30% {\n",
              "      border-color: transparent;\n",
              "      border-left-color: var(--fill-color);\n",
              "      border-top-color: var(--fill-color);\n",
              "      border-right-color: var(--fill-color);\n",
              "    }\n",
              "    40% {\n",
              "      border-color: transparent;\n",
              "      border-right-color: var(--fill-color);\n",
              "      border-top-color: var(--fill-color);\n",
              "    }\n",
              "    60% {\n",
              "      border-color: transparent;\n",
              "      border-right-color: var(--fill-color);\n",
              "    }\n",
              "    80% {\n",
              "      border-color: transparent;\n",
              "      border-right-color: var(--fill-color);\n",
              "      border-bottom-color: var(--fill-color);\n",
              "    }\n",
              "    90% {\n",
              "      border-color: transparent;\n",
              "      border-bottom-color: var(--fill-color);\n",
              "    }\n",
              "  }\n",
              "</style>\n",
              "\n",
              "  <script>\n",
              "    async function quickchart(key) {\n",
              "      const quickchartButtonEl =\n",
              "        document.querySelector('#' + key + ' button');\n",
              "      quickchartButtonEl.disabled = true;  // To prevent multiple clicks.\n",
              "      quickchartButtonEl.classList.add('colab-df-spinner');\n",
              "      try {\n",
              "        const charts = await google.colab.kernel.invokeFunction(\n",
              "            'suggestCharts', [key], {});\n",
              "      } catch (error) {\n",
              "        console.error('Error during call to suggestCharts:', error);\n",
              "      }\n",
              "      quickchartButtonEl.classList.remove('colab-df-spinner');\n",
              "      quickchartButtonEl.classList.add('colab-df-quickchart-complete');\n",
              "    }\n",
              "    (() => {\n",
              "      let quickchartButtonEl =\n",
              "        document.querySelector('#df-1b13c337-fdb8-4ef4-afc1-934dc83b93ac button');\n",
              "      quickchartButtonEl.style.display =\n",
              "        google.colab.kernel.accessAllowed ? 'block' : 'none';\n",
              "    })();\n",
              "  </script>\n",
              "</div>\n",
              "\n",
              "    </div>\n",
              "  </div>\n"
            ],
            "application/vnd.google.colaboratory.intrinsic+json": {
              "type": "dataframe",
              "variable_name": "df"
            }
          },
          "metadata": {},
          "execution_count": 32
        }
      ]
    },
    {
      "cell_type": "code",
      "source": [
        "# top movies\n",
        "movie_vote_counts = df['movieId'].value_counts()\n",
        "top_200_movies = movie_vote_counts.head(200).index\n",
        "df_top_movies = df[df['movieId'].isin(top_200_movies)]\n",
        "\n",
        "# top users\n",
        "user_vote_counts = df_top_movies['userId'].value_counts()\n",
        "users_with_100_votes = user_vote_counts[user_vote_counts >= 100].index\n",
        "df_filtered = df_top_movies[df_top_movies['userId'].isin(users_with_100_votes)]"
      ],
      "metadata": {
        "id": "bjc8PCS_sVMq"
      },
      "execution_count": 33,
      "outputs": []
    },
    {
      "cell_type": "markdown",
      "source": [
        "### Prescencia de nulos"
      ],
      "metadata": {
        "id": "2mVdlhZHv6hF"
      }
    },
    {
      "cell_type": "code",
      "source": [
        "df_filtered.isnull().sum()"
      ],
      "metadata": {
        "colab": {
          "base_uri": "https://localhost:8080/"
        },
        "id": "l195BuBUvOjp",
        "outputId": "295f5b13-b50d-426d-9161-0613401b01fa"
      },
      "execution_count": 34,
      "outputs": [
        {
          "output_type": "execute_result",
          "data": {
            "text/plain": [
              "userId       0\n",
              "movieId      0\n",
              "rating       0\n",
              "timestamp    0\n",
              "dtype: int64"
            ]
          },
          "metadata": {},
          "execution_count": 34
        }
      ]
    },
    {
      "cell_type": "markdown",
      "source": [
        "### Tipos de dato"
      ],
      "metadata": {
        "id": "4i9IEg8gzbJi"
      }
    },
    {
      "cell_type": "code",
      "source": [
        "df_filtered.info() # se nota un target que toma valores continuos"
      ],
      "metadata": {
        "colab": {
          "base_uri": "https://localhost:8080/"
        },
        "id": "03oyOYagzXr8",
        "outputId": "f6462427-c150-4926-8693-56e0aee2789c"
      },
      "execution_count": 35,
      "outputs": [
        {
          "output_type": "stream",
          "name": "stdout",
          "text": [
            "<class 'pandas.core.frame.DataFrame'>\n",
            "Index: 8329 entries, 1772 to 100452\n",
            "Data columns (total 4 columns):\n",
            " #   Column     Non-Null Count  Dtype  \n",
            "---  ------     --------------  -----  \n",
            " 0   userId     8329 non-null   int64  \n",
            " 1   movieId    8329 non-null   int64  \n",
            " 2   rating     8329 non-null   float64\n",
            " 3   timestamp  8329 non-null   int64  \n",
            "dtypes: float64(1), int64(3)\n",
            "memory usage: 325.4 KB\n"
          ]
        }
      ]
    },
    {
      "cell_type": "code",
      "source": [
        "# cuartiles para movieId y userId\n",
        "movie_quartiles = movie_vote_counts.head(200).quantile([0.25, 0.5, 0.75])\n",
        "user_quartiles = user_vote_counts[user_vote_counts >= 100].quantile([0.25, 0.5, 0.75])\n",
        "\n",
        "fig, axes = plt.subplots(nrows=1, ncols=2, figsize=(10, 3))\n",
        "\n",
        "sns.histplot(movie_vote_counts.head(200), bins=30, kde=True, ax=axes[0])\n",
        "axes[0].set_title('Distribución de la cantidad de votos por película')\n",
        "axes[0].set_xlabel('Cantidad de votos')\n",
        "axes[0].set_ylabel('Frecuencia')\n",
        "for i, q in enumerate(movie_quartiles, start=1):\n",
        "    axes[0].axvline(q, color='r', linestyle='--')\n",
        "    axes[0].text(q, max(axes[0].get_ylim())*0.95, f'Q{i}', color='r', ha='center')\n",
        "\n",
        "\n",
        "sns.histplot(user_vote_counts[user_vote_counts >= 100], bins=30, kde=True, ax=axes[1])\n",
        "axes[1].set_title('Distribución de la cantidad de votos por usuario')\n",
        "axes[1].set_xlabel('Cantidad de votos')\n",
        "axes[1].set_ylabel('Frecuencia')\n",
        "for i, q in enumerate(user_quartiles, start=1):\n",
        "    axes[1].axvline(q, color='r', linestyle='--')\n",
        "    axes[1].text(q, max(axes[1].get_ylim())*0.95, f'Q{i}', color='r', ha='center')\n",
        "\n",
        "\n",
        "plt.tight_layout()\n",
        "plt.show()"
      ],
      "metadata": {
        "colab": {
          "base_uri": "https://localhost:8080/",
          "height": 307
        },
        "id": "WlMBJ12mu8SQ",
        "outputId": "a46f4b57-264d-4760-b17f-8e7845903835"
      },
      "execution_count": 36,
      "outputs": [
        {
          "output_type": "display_data",
          "data": {
            "text/plain": [
              "<Figure size 1000x300 with 2 Axes>"
            ],
            "image/png": "[encoded data removed]"
          },
          "metadata": {}
        }
      ]
    },
    {
      "cell_type": "code",
      "source": [
        "# Calcular los cuartiles para la columna 'rating'\n",
        "rating_quartiles = df_filtered[\"rating\"].quantile([0.25, 0.5, 0.75])\n",
        "\n",
        "# Crear el gráfico de distribución de 'rating'\n",
        "plt.figure(figsize=(7, 3))\n",
        "sns.histplot(df_filtered[\"rating\"], bins=30, kde=True)\n",
        "plt.title('Distribución de las calificaciones')\n",
        "plt.xlabel('Calificación')\n",
        "plt.ylabel('Frecuencia')\n",
        "\n",
        "# Añadir líneas verticales y etiquetas para los cuartiles\n",
        "for i, q in enumerate(rating_quartiles, start=1):\n",
        "    plt.axvline(q, color='r', linestyle='--')\n",
        "    plt.text(q, plt.ylim()[1]*0.95, f'Q{i}', color='r', ha='center')\n",
        "\n",
        "plt.tight_layout()\n",
        "plt.show()"
      ],
      "metadata": {
        "colab": {
          "base_uri": "https://localhost:8080/",
          "height": 307
        },
        "id": "sVv8Cond3wka",
        "outputId": "3a03739c-1615-4d0d-d7a2-abe7ff5d8fbd"
      },
      "execution_count": 37,
      "outputs": [
        {
          "output_type": "display_data",
          "data": {
            "text/plain": [
              "<Figure size 700x300 with 1 Axes>"
            ],
            "image/png": "[encoded data removed]"
          },
          "metadata": {}
        }
      ]
    },
    {
      "cell_type": "markdown",
      "source": [
        "Los ratings responden a saltos discretos de 0.5. Se denota una distibución sesgada a la derecha (valores de ratings más altos). La naturaleza de la predicción responde a una regresión pero los saltos discretos podrían ser abordados también como un problema de clasificación."
      ],
      "metadata": {
        "id": "uJqXbOAR5cIp"
      }
    },
    {
      "cell_type": "markdown",
      "source": [
        "### Feature Engineering"
      ],
      "metadata": {
        "id": "5ZmOuuDNjv8s"
      }
    },
    {
      "cell_type": "markdown",
      "source": [
        "Manipulación de la columna \"timestamp\" para generar información de potencial utilidad para el entrenamiento."
      ],
      "metadata": {
        "id": "sM4WBfrQlUEc"
      }
    },
    {
      "cell_type": "code",
      "source": [
        "def cyclic_features(df, column, max_val):\n",
        "\n",
        "    df[f'{column}_sin'] = np.sin(2 * np.pi * df[column] / max_val)\n",
        "    df[f'{column}_cos'] = np.cos(2 * np.pi * df[column] / max_val)\n",
        "    df.drop(columns=[column], inplace=True) # ya que es combinacion de ambos features\n",
        "\n",
        "    return df\n",
        "\n",
        "def f_eng(df, timestamp_col):\n",
        "    # Convertir el timestamp a datetime\n",
        "    df['datetime'] = pd.to_datetime(df[timestamp_col], unit='s')\n",
        "\n",
        "    # Extraer características temporales\n",
        "    df['year'] = df['datetime'].dt.year\n",
        "    df['month'] = df['datetime'].dt.month\n",
        "    df['day_of_year'] = df['datetime'].dt.dayofyear\n",
        "    df['day_of_week'] = df['datetime'].dt.dayofweek\n",
        "    df['hour'] = df['datetime'].dt.hour\n",
        "\n",
        "    # Características cíclicas\n",
        "    df = cyclic_features(df, 'month', 12)\n",
        "    df = cyclic_features(df, 'day_of_week', 7)\n",
        "    df = cyclic_features(df, 'hour', 24)\n",
        "    df = cyclic_features(df, 'day_of_year', 366)\n",
        "\n",
        "    df.drop(columns=['datetime'], inplace=True)\n",
        "    df.drop(columns=['timestamp'], inplace=True)\n",
        "\n",
        "    return df\n",
        "\n",
        "df_filtered = f_eng(df_filtered, 'timestamp')"
      ],
      "metadata": {
        "id": "lUKz4_k9jvSz"
      },
      "execution_count": 38,
      "outputs": []
    },
    {
      "cell_type": "code",
      "source": [
        "df_filtered.head()"
      ],
      "metadata": {
        "colab": {
          "base_uri": "https://localhost:8080/",
          "height": 206
        },
        "id": "7vpbgVSykkEw",
        "outputId": "4eb72bee-204d-4d49-a2f9-72da6a695efb"
      },
      "execution_count": 39,
      "outputs": [
        {
          "output_type": "execute_result",
          "data": {
            "text/plain": [
              "      userId  movieId  rating  year  month_sin  month_cos  day_of_week_sin  \\\n",
              "1772      18        1     3.5  2016   0.866025        0.5         0.433884   \n",
              "1773      18        2     3.0  2016   0.866025        0.5         0.781831   \n",
              "1774      18        6     4.0  2016   0.866025       -0.5        -0.433884   \n",
              "1775      18       16     4.5  2016   0.866025       -0.5        -0.433884   \n",
              "1776      18       32     4.0  2016   0.866025        0.5         0.433884   \n",
              "\n",
              "      day_of_week_cos  hour_sin  hour_cos  day_of_year_sin  day_of_year_cos  \n",
              "1772        -0.900969 -0.866025 -0.500000         0.660152         0.751132  \n",
              "1773         0.623490  0.500000 -0.866025         0.722117         0.691771  \n",
              "1774        -0.900969 -0.965926 -0.258819         0.991723        -0.128398  \n",
              "1775        -0.900969  0.965926 -0.258819         0.932655        -0.360771  \n",
              "1776        -0.900969 -0.866025 -0.500000         0.660152         0.751132  "
            ],
            "text/html": [
              "\n",
              "  <div id=\"df-0840a48c-5a78-422d-abf0-27b90f0810c3\" class=\"colab-df-container\">\n",
              "    <div>\n",
              "<style scoped>\n",
              "    .dataframe tbody tr th:only-of-type {\n",
              "        vertical-align: middle;\n",
              "    }\n",
              "\n",
              "    .dataframe tbody tr th {\n",
              "        vertical-align: top;\n",
              "    }\n",
              "\n",
              "    .dataframe thead th {\n",
              "        text-align: right;\n",
              "    }\n",
              "</style>\n",
              "<table border=\"1\" class=\"dataframe\">\n",
              "  <thead>\n",
              "    <tr style=\"text-align: right;\">\n",
              "      <th></th>\n",
              "      <th>userId</th>\n",
              "      <th>movieId</th>\n",
              "      <th>rating</th>\n",
              "      <th>year</th>\n",
              "      <th>month_sin</th>\n",
              "      <th>month_cos</th>\n",
              "      <th>day_of_week_sin</th>\n",
              "      <th>day_of_week_cos</th>\n",
              "      <th>hour_sin</th>\n",
              "      <th>hour_cos</th>\n",
              "      <th>day_of_year_sin</th>\n",
              "      <th>day_of_year_cos</th>\n",
              "    </tr>\n",
              "  </thead>\n",
              "  <tbody>\n",
              "    <tr>\n",
              "      <th>1772</th>\n",
              "      <td>18</td>\n",
              "      <td>1</td>\n",
              "      <td>3.5</td>\n",
              "      <td>2016</td>\n",
              "      <td>0.866025</td>\n",
              "      <td>0.5</td>\n",
              "      <td>0.433884</td>\n",
              "      <td>-0.900969</td>\n",
              "      <td>-0.866025</td>\n",
              "      <td>-0.500000</td>\n",
              "      <td>0.660152</td>\n",
              "      <td>0.751132</td>\n",
              "    </tr>\n",
              "    <tr>\n",
              "      <th>1773</th>\n",
              "      <td>18</td>\n",
              "      <td>2</td>\n",
              "      <td>3.0</td>\n",
              "      <td>2016</td>\n",
              "      <td>0.866025</td>\n",
              "      <td>0.5</td>\n",
              "      <td>0.781831</td>\n",
              "      <td>0.623490</td>\n",
              "      <td>0.500000</td>\n",
              "      <td>-0.866025</td>\n",
              "      <td>0.722117</td>\n",
              "      <td>0.691771</td>\n",
              "    </tr>\n",
              "    <tr>\n",
              "      <th>1774</th>\n",
              "      <td>18</td>\n",
              "      <td>6</td>\n",
              "      <td>4.0</td>\n",
              "      <td>2016</td>\n",
              "      <td>0.866025</td>\n",
              "      <td>-0.5</td>\n",
              "      <td>-0.433884</td>\n",
              "      <td>-0.900969</td>\n",
              "      <td>-0.965926</td>\n",
              "      <td>-0.258819</td>\n",
              "      <td>0.991723</td>\n",
              "      <td>-0.128398</td>\n",
              "    </tr>\n",
              "    <tr>\n",
              "      <th>1775</th>\n",
              "      <td>18</td>\n",
              "      <td>16</td>\n",
              "      <td>4.5</td>\n",
              "      <td>2016</td>\n",
              "      <td>0.866025</td>\n",
              "      <td>-0.5</td>\n",
              "      <td>-0.433884</td>\n",
              "      <td>-0.900969</td>\n",
              "      <td>0.965926</td>\n",
              "      <td>-0.258819</td>\n",
              "      <td>0.932655</td>\n",
              "      <td>-0.360771</td>\n",
              "    </tr>\n",
              "    <tr>\n",
              "      <th>1776</th>\n",
              "      <td>18</td>\n",
              "      <td>32</td>\n",
              "      <td>4.0</td>\n",
              "      <td>2016</td>\n",
              "      <td>0.866025</td>\n",
              "      <td>0.5</td>\n",
              "      <td>0.433884</td>\n",
              "      <td>-0.900969</td>\n",
              "      <td>-0.866025</td>\n",
              "      <td>-0.500000</td>\n",
              "      <td>0.660152</td>\n",
              "      <td>0.751132</td>\n",
              "    </tr>\n",
              "  </tbody>\n",
              "</table>\n",
              "</div>\n",
              "    <div class=\"colab-df-buttons\">\n",
              "\n",
              "  <div class=\"colab-df-container\">\n",
              "    <button class=\"colab-df-convert\" onclick=\"convertToInteractive('df-0840a48c-5a78-422d-abf0-27b90f0810c3')\"\n",
              "            title=\"Convert this dataframe to an interactive table.\"\n",
              "            style=\"display:none;\">\n",
              "\n",
              "  <svg xmlns=\"http://www.w3.org/2000/svg\" height=\"24px\" viewBox=\"0 -960 960 960\">\n",
              "    <path d=\"M120-120v-720h720v720H120Zm60-500h600v-160H180v160Zm220 220h160v-160H400v160Zm0 220h160v-160H400v160ZM180-400h160v-160H180v160Zm440 0h160v-160H620v160ZM180-180h160v-160H180v160Zm440 0h160v-160H620v160Z\"/>\n",
              "  </svg>\n",
              "    </button>\n",
              "\n",
              "  <style>\n",
              "    .colab-df-container {\n",
              "      display:flex;\n",
              "      gap: 12px;\n",
              "    }\n",
              "\n",
              "    .colab-df-convert {\n",
              "      background-color: #E8F0FE;\n",
              "      border: none;\n",
              "      border-radius: 50%;\n",
              "      cursor: pointer;\n",
              "      display: none;\n",
              "      fill: #1967D2;\n",
              "      height: 32px;\n",
              "      padding: 0 0 0 0;\n",
              "      width: 32px;\n",
              "    }\n",
              "\n",
              "    .colab-df-convert:hover {\n",
              "      background-color: #E2EBFA;\n",
              "      box-shadow: 0px 1px 2px rgba(60, 64, 67, 0.3), 0px 1px 3px 1px rgba(60, 64, 67, 0.15);\n",
              "      fill: #174EA6;\n",
              "    }\n",
              "\n",
              "    .colab-df-buttons div {\n",
              "      margin-bottom: 4px;\n",
              "    }\n",
              "\n",
              "    [theme=dark] .colab-df-convert {\n",
              "      background-color: #3B4455;\n",
              "      fill: #D2E3FC;\n",
              "    }\n",
              "\n",
              "    [theme=dark] .colab-df-convert:hover {\n",
              "      background-color: #434B5C;\n",
              "      box-shadow: 0px 1px 3px 1px rgba(0, 0, 0, 0.15);\n",
              "      filter: drop-shadow(0px 1px 2px rgba(0, 0, 0, 0.3));\n",
              "      fill: #FFFFFF;\n",
              "    }\n",
              "  </style>\n",
              "\n",
              "    <script>\n",
              "      const buttonEl =\n",
              "        document.querySelector('#df-0840a48c-5a78-422d-abf0-27b90f0810c3 button.colab-df-convert');\n",
              "      buttonEl.style.display =\n",
              "        google.colab.kernel.accessAllowed ? 'block' : 'none';\n",
              "\n",
              "      async function convertToInteractive(key) {\n",
              "        const element = document.querySelector('#df-0840a48c-5a78-422d-abf0-27b90f0810c3');\n",
              "        const dataTable =\n",
              "          await google.colab.kernel.invokeFunction('convertToInteractive',\n",
              "                                                    [key], {});\n",
              "        if (!dataTable) return;\n",
              "\n",
              "        const docLinkHtml = 'Like what you see? Visit the ' +\n",
              "          '<a target=\"_blank\" href=https://colab.research.google.com/notebooks/data_table.ipynb>data table notebook</a>'\n",
              "          + ' to learn more about interactive tables.';\n",
              "        element.innerHTML = '';\n",
              "        dataTable['output_type'] = 'display_data';\n",
              "        await google.colab.output.renderOutput(dataTable, element);\n",
              "        const docLink = document.createElement('div');\n",
              "        docLink.innerHTML = docLinkHtml;\n",
              "        element.appendChild(docLink);\n",
              "      }\n",
              "    </script>\n",
              "  </div>\n",
              "\n",
              "\n",
              "<div id=\"df-fe4e420b-6da8-40e3-87f2-7b7f2fb04435\">\n",
              "  <button class=\"colab-df-quickchart\" onclick=\"quickchart('df-fe4e420b-6da8-40e3-87f2-7b7f2fb04435')\"\n",
              "            title=\"Suggest charts\"\n",
              "            style=\"display:none;\">\n",
              "\n",
              "<svg xmlns=\"http://www.w3.org/2000/svg\" height=\"24px\"viewBox=\"0 0 24 24\"\n",
              "     width=\"24px\">\n",
              "    <g>\n",
              "        <path d=\"M19 3H5c-1.1 0-2 .9-2 2v14c0 1.1.9 2 2 2h14c1.1 0 2-.9 2-2V5c0-1.1-.9-2-2-2zM9 17H7v-7h2v7zm4 0h-2V7h2v10zm4 0h-2v-4h2v4z\"/>\n",
              "    </g>\n",
              "</svg>\n",
              "  </button>\n",
              "\n",
              "<style>\n",
              "  .colab-df-quickchart {\n",
              "      --bg-color: #E8F0FE;\n",
              "      --fill-color: #1967D2;\n",
              "      --hover-bg-color: #E2EBFA;\n",
              "      --hover-fill-color: #174EA6;\n",
              "      --disabled-fill-color: #AAA;\n",
              "      --disabled-bg-color: #DDD;\n",
              "  }\n",
              "\n",
              "  [theme=dark] .colab-df-quickchart {\n",
              "      --bg-color: #3B4455;\n",
              "      --fill-color: #D2E3FC;\n",
              "      --hover-bg-color: #434B5C;\n",
              "      --hover-fill-color: #FFFFFF;\n",
              "      --disabled-bg-color: #3B4455;\n",
              "      --disabled-fill-color: #666;\n",
              "  }\n",
              "\n",
              "  .colab-df-quickchart {\n",
              "    background-color: var(--bg-color);\n",
              "    border: none;\n",
              "    border-radius: 50%;\n",
              "    cursor: pointer;\n",
              "    display: none;\n",
              "    fill: var(--fill-color);\n",
              "    height: 32px;\n",
              "    padding: 0;\n",
              "    width: 32px;\n",
              "  }\n",
              "\n",
              "  .colab-df-quickchart:hover {\n",
              "    background-color: var(--hover-bg-color);\n",
              "    box-shadow: 0 1px 2px rgba(60, 64, 67, 0.3), 0 1px 3px 1px rgba(60, 64, 67, 0.15);\n",
              "    fill: var(--button-hover-fill-color);\n",
              "  }\n",
              "\n",
              "  .colab-df-quickchart-complete:disabled,\n",
              "  .colab-df-quickchart-complete:disabled:hover {\n",
              "    background-color: var(--disabled-bg-color);\n",
              "    fill: var(--disabled-fill-color);\n",
              "    box-shadow: none;\n",
              "  }\n",
              "\n",
              "  .colab-df-spinner {\n",
              "    border: 2px solid var(--fill-color);\n",
              "    border-color: transparent;\n",
              "    border-bottom-color: var(--fill-color);\n",
              "    animation:\n",
              "      spin 1s steps(1) infinite;\n",
              "  }\n",
              "\n",
              "  @keyframes spin {\n",
              "    0% {\n",
              "      border-color: transparent;\n",
              "      border-bottom-color: var(--fill-color);\n",
              "      border-left-color: var(--fill-color);\n",
              "    }\n",
              "    20% {\n",
              "      border-color: transparent;\n",
              "      border-left-color: var(--fill-color);\n",
              "      border-top-color: var(--fill-color);\n",
              "    }\n",
              "    30% {\n",
              "      border-color: transparent;\n",
              "      border-left-color: var(--fill-color);\n",
              "      border-top-color: var(--fill-color);\n",
              "      border-right-color: var(--fill-color);\n",
              "    }\n",
              "    40% {\n",
              "      border-color: transparent;\n",
              "      border-right-color: var(--fill-color);\n",
              "      border-top-color: var(--fill-color);\n",
              "    }\n",
              "    60% {\n",
              "      border-color: transparent;\n",
              "      border-right-color: var(--fill-color);\n",
              "    }\n",
              "    80% {\n",
              "      border-color: transparent;\n",
              "      border-right-color: var(--fill-color);\n",
              "      border-bottom-color: var(--fill-color);\n",
              "    }\n",
              "    90% {\n",
              "      border-color: transparent;\n",
              "      border-bottom-color: var(--fill-color);\n",
              "    }\n",
              "  }\n",
              "</style>\n",
              "\n",
              "  <script>\n",
              "    async function quickchart(key) {\n",
              "      const quickchartButtonEl =\n",
              "        document.querySelector('#' + key + ' button');\n",
              "      quickchartButtonEl.disabled = true;  // To prevent multiple clicks.\n",
              "      quickchartButtonEl.classList.add('colab-df-spinner');\n",
              "      try {\n",
              "        const charts = await google.colab.kernel.invokeFunction(\n",
              "            'suggestCharts', [key], {});\n",
              "      } catch (error) {\n",
              "        console.error('Error during call to suggestCharts:', error);\n",
              "      }\n",
              "      quickchartButtonEl.classList.remove('colab-df-spinner');\n",
              "      quickchartButtonEl.classList.add('colab-df-quickchart-complete');\n",
              "    }\n",
              "    (() => {\n",
              "      let quickchartButtonEl =\n",
              "        document.querySelector('#df-fe4e420b-6da8-40e3-87f2-7b7f2fb04435 button');\n",
              "      quickchartButtonEl.style.display =\n",
              "        google.colab.kernel.accessAllowed ? 'block' : 'none';\n",
              "    })();\n",
              "  </script>\n",
              "</div>\n",
              "\n",
              "    </div>\n",
              "  </div>\n"
            ],
            "application/vnd.google.colaboratory.intrinsic+json": {
              "type": "dataframe",
              "variable_name": "df_filtered",
              "summary": "{\n  \"name\": \"df_filtered\",\n  \"rows\": 8329,\n  \"fields\": [\n    {\n      \"column\": \"userId\",\n      \"properties\": {\n        \"dtype\": \"number\",\n        \"std\": 179,\n        \"min\": 18,\n        \"max\": 610,\n        \"num_unique_values\": 63,\n        \"samples\": [\n          608,\n          599,\n          18\n        ],\n        \"semantic_type\": \"\",\n        \"description\": \"\"\n      }\n    },\n    {\n      \"column\": \"movieId\",\n      \"properties\": {\n        \"dtype\": \"number\",\n        \"std\": 11946,\n        \"min\": 1,\n        \"max\": 79132,\n        \"num_unique_values\": 200,\n        \"samples\": [\n          3949,\n          260,\n          527\n        ],\n        \"semantic_type\": \"\",\n        \"description\": \"\"\n      }\n    },\n    {\n      \"column\": \"rating\",\n      \"properties\": {\n        \"dtype\": \"number\",\n        \"std\": 0.8834546203677296,\n        \"min\": 0.5,\n        \"max\": 5.0,\n        \"num_unique_values\": 10,\n        \"samples\": [\n          1.5,\n          3.0,\n          5.0\n        ],\n        \"semantic_type\": \"\",\n        \"description\": \"\"\n      }\n    },\n    {\n      \"column\": \"year\",\n      \"properties\": {\n        \"dtype\": \"int32\",\n        \"num_unique_values\": 20,\n        \"samples\": [\n          2016,\n          2013,\n          2012\n        ],\n        \"semantic_type\": \"\",\n        \"description\": \"\"\n      }\n    },\n    {\n      \"column\": \"month_sin\",\n      \"properties\": {\n        \"dtype\": \"number\",\n        \"std\": 0.7300416733454124,\n        \"min\": -1.0,\n        \"max\": 1.0,\n        \"num_unique_values\": 11,\n        \"samples\": [\n          1.2246467991473532e-16,\n          0.8660254037844386,\n          -2.4492935982947064e-16\n        ],\n        \"semantic_type\": \"\",\n        \"description\": \"\"\n      }\n    },\n    {\n      \"column\": \"month_cos\",\n      \"properties\": {\n        \"dtype\": \"number\",\n        \"std\": 0.6804935489996818,\n        \"min\": -1.0,\n        \"max\": 1.0,\n        \"num_unique_values\": 11,\n        \"samples\": [\n          -0.5000000000000004,\n          0.5000000000000001,\n          0.8660254037844387\n        ],\n        \"semantic_type\": \"\",\n        \"description\": \"\"\n      }\n    },\n    {\n      \"column\": \"day_of_week_sin\",\n      \"properties\": {\n        \"dtype\": \"number\",\n        \"std\": 0.6824887269164375,\n        \"min\": -0.9749279121818236,\n        \"max\": 0.9749279121818236,\n        \"num_unique_values\": 7,\n        \"samples\": [\n          0.43388373911755823,\n          0.7818314824680298,\n          0.0\n        ],\n        \"semantic_type\": \"\",\n        \"description\": \"\"\n      }\n    },\n    {\n      \"column\": \"day_of_week_cos\",\n      \"properties\": {\n        \"dtype\": \"number\",\n        \"std\": 0.7237088281215597,\n        \"min\": -0.9009688679024191,\n        \"max\": 1.0,\n        \"num_unique_values\": 7,\n        \"samples\": [\n          -0.900968867902419,\n          0.6234898018587336,\n          1.0\n        ],\n        \"semantic_type\": \"\",\n        \"description\": \"\"\n      }\n    },\n    {\n      \"column\": \"hour_sin\",\n      \"properties\": {\n        \"dtype\": \"number\",\n        \"std\": 0.6737857305908593,\n        \"min\": -1.0,\n        \"max\": 1.0,\n        \"num_unique_values\": 22,\n        \"samples\": [\n          -0.8660254037844384,\n          -0.2588190451025208,\n          0.258819045102521\n        ],\n        \"semantic_type\": \"\",\n        \"description\": \"\"\n      }\n    },\n    {\n      \"column\": \"hour_cos\",\n      \"properties\": {\n        \"dtype\": \"number\",\n        \"std\": 0.6874305133557479,\n        \"min\": -1.0,\n        \"max\": 1.0,\n        \"num_unique_values\": 22,\n        \"samples\": [\n          -0.5000000000000004,\n          0.7071067811865476,\n          0.2588190451025203\n        ],\n        \"semantic_type\": \"\",\n        \"description\": \"\"\n      }\n    },\n    {\n      \"column\": \"day_of_year_sin\",\n      \"properties\": {\n        \"dtype\": \"number\",\n        \"std\": 0.7383365452268225,\n        \"min\": -0.9999631612477099,\n        \"max\": 0.9999631612477099,\n        \"num_unique_values\": 294,\n        \"samples\": [\n          0.44709379298511426,\n          0.5511016400746002,\n          -0.9601498736716018\n        ],\n        \"semantic_type\": \"\",\n        \"description\": \"\"\n      }\n    },\n    {\n      \"column\": \"day_of_year_cos\",\n      \"properties\": {\n        \"dtype\": \"number\",\n        \"std\": 0.6716749477059583,\n        \"min\": -1.0,\n        \"max\": 1.0,\n        \"num_unique_values\": 303,\n        \"samples\": [\n          0.8528643314021597,\n          -0.11135519690480862,\n          0.9963183634476755\n        ],\n        \"semantic_type\": \"\",\n        \"description\": \"\"\n      }\n    }\n  ]\n}"
            }
          },
          "metadata": {},
          "execution_count": 39
        }
      ]
    },
    {
      "cell_type": "markdown",
      "source": [
        "# 2. Embeddings\n",
        "A partir del dataset del punto 1, construir una única red neuronal que utilice una capa de embeddings para el id de usuario, una capa de embeddings para el id de película y al menos dos capas lineales que sea capaz de predecir el puntaje que cada usuario colocó a cada pelicula. Usar tecnicas de normalizacion en caso de ser necesario."
      ],
      "metadata": {
        "id": "5BszkwA8yC--"
      }
    },
    {
      "cell_type": "code",
      "source": [
        "df_final = df_filtered.drop(columns=['rating'])\n",
        "x = df_final.to_numpy()\n",
        "y = df_filtered[\"rating\"].to_numpy()"
      ],
      "metadata": {
        "id": "cVsze63tnVBc"
      },
      "execution_count": 170,
      "outputs": []
    },
    {
      "cell_type": "code",
      "source": [
        "# Normalizacion min-max\n",
        "x_norm = x\n",
        "x_norm = (x - np.min(x, axis=0)) / (np.max(x, axis=0 ) - np.min(x, axis=0))"
      ],
      "metadata": {
        "id": "6Set-7cXx3VE"
      },
      "execution_count": 171,
      "outputs": []
    },
    {
      "cell_type": "code",
      "source": [
        "user_id = df_final['userId']\n",
        "movie_id = df_final['movieId']\n",
        "\n",
        "x_norm = x_norm[:, 2:] # elimino las columnas de userId y movieId para no sesgar al modelo"
      ],
      "metadata": {
        "id": "gzbV25_7Wvai"
      },
      "execution_count": 172,
      "outputs": []
    },
    {
      "cell_type": "code",
      "source": [
        "# Divido el dataset\n",
        "idx = np.random.permutation(x_norm.shape[0])\n",
        "train_idx = idx[0:int(0.85*len(idx))]\n",
        "valid_idx = idx[int(0.85*len(idx)):]\n",
        "\n",
        "train_x = x_norm[train_idx]\n",
        "train_y = y[train_idx]\n",
        "valid_x = x_norm[valid_idx]\n",
        "valid_y = y[valid_idx]\n",
        "\n",
        "n_train = train_x.shape[0]\n",
        "n_valid = valid_x.shape[0]"
      ],
      "metadata": {
        "id": "4eSWPWpI0C3I"
      },
      "execution_count": 173,
      "outputs": []
    },
    {
      "cell_type": "markdown",
      "source": [
        "## Construccion de Embeddings"
      ],
      "metadata": {
        "id": "Zp9wFRk_UfBO"
      }
    },
    {
      "cell_type": "code",
      "source": [
        "user_id_to_idx = {value:i for i,value in enumerate(user_id.unique())}\n",
        "movie_id_to_idx = {value:i for i,value in enumerate(movie_id.unique())}\n",
        "print(f\"#user: {len(user_id_to_idx)}  #movies: {len(movie_id_to_idx)}\")\n",
        "\n",
        "user_idx = np.array([user_id_to_idx[value] for value in user_id])\n",
        "movie_idx = np.array([movie_id_to_idx[value] for value in movie_id])"
      ],
      "metadata": {
        "colab": {
          "base_uri": "https://localhost:8080/"
        },
        "id": "NsxTYrc1eQzm",
        "outputId": "ce669079-fe26-4fa1-e1dd-d5d4584ef046"
      },
      "execution_count": 174,
      "outputs": [
        {
          "output_type": "stream",
          "name": "stdout",
          "text": [
            "#user: 63  #movies: 200\n"
          ]
        }
      ]
    },
    {
      "cell_type": "code",
      "source": [
        "user_idx_train = user_idx[train_idx]\n",
        "user_idx_valid = user_idx[valid_idx]\n",
        "\n",
        "movie_idx_train = movie_idx[train_idx]\n",
        "movie_idx_valid = movie_idx[valid_idx]"
      ],
      "metadata": {
        "id": "Xh2fIxQrTsw3"
      },
      "execution_count": 175,
      "outputs": []
    },
    {
      "cell_type": "code",
      "source": [
        "len(x), len(y), len(user_idx), len(movie_idx)"
      ],
      "metadata": {
        "colab": {
          "base_uri": "https://localhost:8080/"
        },
        "id": "HGa4tz6Oh4lZ",
        "outputId": "06b57279-2254-4e27-aebf-d91399a82242"
      },
      "execution_count": 176,
      "outputs": [
        {
          "output_type": "execute_result",
          "data": {
            "text/plain": [
              "(8329, 8329, 8329, 8329)"
            ]
          },
          "metadata": {},
          "execution_count": 176
        }
      ]
    },
    {
      "cell_type": "markdown",
      "source": [
        "## Construccion Red Neuronal"
      ],
      "metadata": {
        "id": "a1noLcIvUmVR"
      }
    },
    {
      "cell_type": "code",
      "source": [
        "import torch\n",
        "from torch.utils.data import Dataset, DataLoader\n",
        "from sklearn import metrics"
      ],
      "metadata": {
        "id": "ld86pXNHUyj8"
      },
      "execution_count": 177,
      "outputs": []
    },
    {
      "cell_type": "code",
      "source": [
        "# Esta clase dataset sobreescribe los métodos init, len y getitem\n",
        "class MyDatasetWithEmbddings(Dataset):\n",
        "\n",
        "  def __init__(self, x, user_idx, movie_idx, y):\n",
        "    self.x = x\n",
        "    self.user_idx = user_idx\n",
        "    self.movie_idx = movie_idx\n",
        "    self.y = y\n",
        "\n",
        "  def __len__(self):\n",
        "    return self.x.shape[0]\n",
        "\n",
        "  def __getitem__(self, idx):\n",
        "    return self.x[idx], self.user_idx[idx], self.movie_idx[idx], self.y[idx]"
      ],
      "metadata": {
        "id": "MtKQJ9Tsf3EL"
      },
      "execution_count": 178,
      "outputs": []
    },
    {
      "cell_type": "code",
      "source": [
        "# Creo el dataset de entrenamiento y  validación\n",
        "train_ds_embeddings = MyDatasetWithEmbddings(train_x, user_idx_train, movie_idx_train, train_y)\n",
        "valid_ds_embeddings = MyDatasetWithEmbddings(valid_x, user_idx_valid, movie_idx_valid, valid_y)"
      ],
      "metadata": {
        "id": "1v4pHgGcieaI"
      },
      "execution_count": 179,
      "outputs": []
    },
    {
      "cell_type": "code",
      "source": [
        "train_dataloader_emb = DataLoader(train_ds_embeddings, batch_size =64, shuffle= True)\n",
        "valid_dataloader_emb = DataLoader(valid_ds_embeddings, batch_size=64)"
      ],
      "metadata": {
        "id": "MdZukfmcjPvD"
      },
      "execution_count": 180,
      "outputs": []
    },
    {
      "cell_type": "markdown",
      "source": [
        "Para la construcción de la red, agrego capas de dropout ya que el modelo comienza a overfittear en todas las pruebas a partir de la época 20 aproximadamente."
      ],
      "metadata": {
        "id": "qfOabe0UWqNo"
      }
    },
    {
      "cell_type": "code",
      "source": [
        "# Arquitectura con embeddings\n",
        "class NNetWithEmbeddings(torch.nn.Module):\n",
        "\n",
        "  def __init__(self, emb_dim_us:int, emb_dim_mov:int):\n",
        "    super().__init__()\n",
        "    self.embeddings_users = torch.nn.Embedding(num_embeddings=63, embedding_dim=emb_dim_us)  # nota> #user: 63  #movies: 200\n",
        "    self.embeddings_movies = torch.nn.Embedding(num_embeddings=200, embedding_dim=emb_dim_mov)\n",
        "    self.linear_1 = torch.nn.Linear(in_features=9+emb_dim_us+emb_dim_mov, out_features=200, bias=True)\n",
        "    self.relu_1 = torch.nn.ReLU()\n",
        "    self.dropout = torch.nn.Dropout(p=0.5)\n",
        "    self.linear_2 = torch.nn.Linear(in_features = 200, out_features=100, bias=True)\n",
        "    self.relu_2 = torch.nn.ReLU()\n",
        "    self.output = torch.nn.Linear(in_features = 100, out_features= 1, bias=True)\n",
        "\n",
        "  def forward(self, x, user_idx, movie_idx):\n",
        "    embeddings_user_outputs = self.embeddings_users(user_idx)\n",
        "    embeddings_movie_outputs = self.embeddings_movies(movie_idx)\n",
        "    x = torch.cat([x, embeddings_user_outputs, embeddings_movie_outputs], dim=1)\n",
        "    x = self.linear_1(x)\n",
        "    x = self.relu_1(x)\n",
        "    x = self.dropout(x)\n",
        "    x = self.linear_2(x)\n",
        "    x = self.relu_2(x)\n",
        "    x = self.dropout(x)\n",
        "    x = self.output(x)\n",
        "    return x"
      ],
      "metadata": {
        "id": "wD1PqO82jUi5"
      },
      "execution_count": 181,
      "outputs": []
    },
    {
      "cell_type": "markdown",
      "source": [
        "## Entrenamiento"
      ],
      "metadata": {
        "id": "4Lyo0C5kmqTS"
      }
    },
    {
      "cell_type": "code",
      "source": [
        "configs = {\n",
        "    \"lr\": 0.001,\n",
        "    \"weight_decay\": 0.005,\n",
        "    \"emb_dim_us\": 5,\n",
        "    \"emb_dim_mov\": 6,\n",
        "    \"epochs\" : 90,\n",
        "}"
      ],
      "metadata": {
        "id": "ionOwiSfkAo6"
      },
      "execution_count": 182,
      "outputs": []
    },
    {
      "cell_type": "code",
      "source": [
        "device = \"cpu\"\n",
        "if torch.cuda.is_available():\n",
        "  device = \"cuda:0\"\n",
        "\n",
        "device"
      ],
      "metadata": {
        "colab": {
          "base_uri": "https://localhost:8080/",
          "height": 36
        },
        "id": "OLoo6iHYmXP-",
        "outputId": "07535365-5cf5-4df6-9926-c02106b11622"
      },
      "execution_count": 183,
      "outputs": [
        {
          "output_type": "execute_result",
          "data": {
            "text/plain": [
              "'cpu'"
            ],
            "application/vnd.google.colaboratory.intrinsic+json": {
              "type": "string"
            }
          },
          "metadata": {},
          "execution_count": 183
        }
      ]
    },
    {
      "cell_type": "code",
      "source": [
        "nnnetWithEmbeddings = NNetWithEmbeddings(configs[\"emb_dim_us\"],configs[\"emb_dim_mov\"])\n",
        "nnnetWithEmbeddings = nnnetWithEmbeddings.to(device)"
      ],
      "metadata": {
        "id": "yXoNTSZxm2Po"
      },
      "execution_count": 184,
      "outputs": []
    },
    {
      "cell_type": "code",
      "source": [
        "loss_function = torch.nn.MSELoss(reduction='sum')\n",
        "# Optimizador con regularización L2 (parámetro weight_decay)\n",
        "optimizer = torch.optim.Adam(nnnetWithEmbeddings.parameters(), lr=configs[\"lr\"], weight_decay=configs[\"weight_decay\"])"
      ],
      "metadata": {
        "id": "pJq2h6U-m7w5"
      },
      "execution_count": 185,
      "outputs": []
    },
    {
      "cell_type": "code",
      "source": [
        "# Mini-Batch\n",
        "\n",
        "# cantidad de epochs\n",
        "epochs = configs[\"epochs\"]\n",
        "\n",
        "train_loss_by_epoch=[]\n",
        "valid_loss_by_epoch=[]\n",
        "\n",
        "train_mse_by_epoch = []\n",
        "valid_mse_by_epoch = []\n",
        "train_mae_by_epoch = []\n",
        "valid_mae_by_epoch = []\n",
        "train_r2_by_epoch = []\n",
        "valid_r2_by_epoch = []\n",
        "\n",
        "# Doble loop algoritmo Mini-Batch\n",
        "for epoch in range(epochs):\n",
        "\n",
        "  ############################################\n",
        "  ## Entrenamiento\n",
        "  ############################################\n",
        "  nnnetWithEmbeddings.train(True)\n",
        "\n",
        "  epoch_loss = 0\n",
        "  epoch_y_hat = []\n",
        "  epoch_y = []\n",
        "\n",
        "  for i,data in enumerate(train_dataloader_emb):\n",
        "    # Obtengo los datos del batch de entrenamiento\n",
        "    x_batch, embed_user_batch, embed_movie_batch, y_batch = data\n",
        "    # Copio el batch al dispositivo donde entreno la red neuronal\n",
        "    x_batch = x_batch.to(device).float()\n",
        "    embed_user_batch = embed_user_batch.to(device).int()\n",
        "    embed_movie_batch = embed_movie_batch.to(device).int()\n",
        "    y_batch = y_batch.to(device).float().reshape(-1, 1)\n",
        "\n",
        "    # Paso forward\n",
        "    # Limpio optimizer para empezar un nuevo cálculo de gradiente\n",
        "    optimizer.zero_grad()\n",
        "    nnet_output = nnnetWithEmbeddings(x_batch, embed_user_batch, embed_movie_batch)\n",
        "    #y_batch_hat = 5*torch.sigmoid(nnet_output)\n",
        "    #y_batch_hat = torch.clamp(nnet_output, min=0, max=5)\n",
        "    y_batch_hat = nnet_output\n",
        "    # Calculo el loss\n",
        "    loss = loss_function(nnet_output, y_batch)\n",
        "\n",
        "    # Backpropagation\n",
        "    loss.backward()\n",
        "\n",
        "    # Actualizar los parámetros\n",
        "    optimizer.step()\n",
        "\n",
        "    # Almaceno los valores reales y mis predicciones para cálcular las métricas\n",
        "    epoch_y += list(y_batch.detach().cpu().numpy())\n",
        "    epoch_y_hat += list(y_batch_hat.detach().cpu().numpy())\n",
        "    # Acumulo la loss del batch\n",
        "    epoch_loss = epoch_loss + loss.item()\n",
        "\n",
        "  # Calculo la media de la loss\n",
        "  epoch_loss = epoch_loss / len(train_dataloader_emb) #n_train\n",
        "  # Almaceno la loss de la epoch para graficar\n",
        "  train_loss_by_epoch.append(epoch_loss)\n",
        "  # Cálculo la métrica de la epoch\n",
        "  train_mse = metrics.mean_squared_error(epoch_y, epoch_y_hat)\n",
        "  train_mse_by_epoch.append(train_mse)\n",
        "  train_mae = metrics.mean_absolute_error(epoch_y, epoch_y_hat)\n",
        "  train_mae_by_epoch.append(train_mae)\n",
        "  train_r2 = metrics.r2_score(epoch_y, epoch_y_hat)\n",
        "  train_r2_by_epoch.append(train_r2)\n",
        "\n",
        "  ############################################\n",
        "  ## Validación\n",
        "  ############################################\n",
        "  # Desactivo el cálculo de gradiente para validación\n",
        "  nnnetWithEmbeddings.train(False)\n",
        "\n",
        "  valid_epoch_loss = 0\n",
        "  valid_epoch_y_hat = []\n",
        "  valid_epoch_y = []\n",
        "\n",
        "  for i,data in enumerate(valid_dataloader_emb):\n",
        "    # Obtengo los datos del batch de validación\n",
        "    x_batch, embed_user_batch, embed_movie_batch, y_batch = data\n",
        "\n",
        "    # Copio el batch al dispositivo donde entreno la red neuronal\n",
        "    x_batch = x_batch.to(device).float()\n",
        "    embed_user_batch = embed_user_batch.to(device).int()\n",
        "    embed_movie_batch = embed_movie_batch.to(device).int()\n",
        "    y_batch = y_batch.to(device).float().reshape(-1, 1)\n",
        "\n",
        "    # Paso forward\n",
        "    nnet_output = nnnetWithEmbeddings(x_batch, embed_user_batch, embed_movie_batch)\n",
        "    #y_batch_hat = 5*torch.sigmoid(nnet_output)\n",
        "    #y_batch_hat = torch.clamp(nnet_output, min=0, max=5)\n",
        "    y_batch_hat = nnet_output\n",
        "\n",
        "    # Calculo el loss\n",
        "    loss = loss_function(nnet_output, y_batch)\n",
        "\n",
        "    # En validación no hago backpropagation!!\n",
        "\n",
        "    # Almaceno los valores reales y mis predicciones para cálcular las métricas\n",
        "    valid_epoch_y += list(y_batch.detach().cpu().numpy())\n",
        "    valid_epoch_y_hat += list(y_batch_hat.detach().cpu().numpy())\n",
        "    # Acumulo la loss del batch\n",
        "    valid_epoch_loss = valid_epoch_loss + loss.item()\n",
        "\n",
        "  # Calculo la media de la loss\n",
        "  valid_epoch_loss = valid_epoch_loss / len(train_dataloader_emb) #n_valid\n",
        "  # Almaceno la loss de la epoch para graficar\n",
        "  valid_loss_by_epoch.append(valid_epoch_loss)\n",
        "\n",
        "  # Cálculo la métrica de la epoch\n",
        "  #valid_accuracy = metrics.accuracy_score(valid_epoch_y, [j>=0.5 for j in valid_epoch_y_hat])\n",
        "  valid_mse = metrics.mean_squared_error(valid_epoch_y, valid_epoch_y_hat)\n",
        "  valid_mse_by_epoch.append(valid_mse)\n",
        "  valid_mae = metrics.mean_absolute_error(valid_epoch_y, valid_epoch_y_hat)\n",
        "  valid_mae_by_epoch.append(valid_mae)\n",
        "  valid_r2 = metrics.r2_score(valid_epoch_y, valid_epoch_y_hat)\n",
        "  valid_r2_by_epoch.append(valid_r2)\n",
        "\n",
        "  ############################################\n",
        "  ## Impresión de resultados por epoch\n",
        "  ############################################\n",
        "  print(f\" Epoch {epoch} | \" \\\n",
        "        f\"Train/Valid loss: {epoch_loss:.3f} / {valid_epoch_loss:.3f} | \" \\\n",
        "        f\"Train/Valid MSE: {train_mse:.3f} / {valid_mse:.3f}\")"
      ],
      "metadata": {
        "colab": {
          "base_uri": "https://localhost:8080/"
        },
        "id": "Zs572HNGpMmP",
        "outputId": "c6285c55-13bc-49c6-987e-845ea842b8a5"
      },
      "execution_count": 186,
      "outputs": [
        {
          "output_type": "stream",
          "name": "stdout",
          "text": [
            " Epoch 0 | Train/Valid loss: 174.500 / 12.097 | Train/Valid MSE: 2.736 / 1.074\n",
            " Epoch 1 | Train/Valid loss: 91.596 / 11.023 | Train/Valid MSE: 1.436 / 0.979\n",
            " Epoch 2 | Train/Valid loss: 83.600 / 10.332 | Train/Valid MSE: 1.311 / 0.917\n",
            " Epoch 3 | Train/Valid loss: 79.794 / 9.465 | Train/Valid MSE: 1.251 / 0.840\n",
            " Epoch 4 | Train/Valid loss: 76.401 / 9.278 | Train/Valid MSE: 1.198 / 0.824\n",
            " Epoch 5 | Train/Valid loss: 72.275 / 9.100 | Train/Valid MSE: 1.133 / 0.808\n",
            " Epoch 6 | Train/Valid loss: 68.018 / 8.655 | Train/Valid MSE: 1.067 / 0.769\n",
            " Epoch 7 | Train/Valid loss: 66.518 / 8.372 | Train/Valid MSE: 1.043 / 0.743\n",
            " Epoch 8 | Train/Valid loss: 65.910 / 8.471 | Train/Valid MSE: 1.033 / 0.752\n",
            " Epoch 9 | Train/Valid loss: 64.901 / 8.097 | Train/Valid MSE: 1.018 / 0.719\n",
            " Epoch 10 | Train/Valid loss: 63.217 / 7.999 | Train/Valid MSE: 0.991 / 0.710\n",
            " Epoch 11 | Train/Valid loss: 63.954 / 7.835 | Train/Valid MSE: 1.003 / 0.696\n",
            " Epoch 12 | Train/Valid loss: 58.981 / 8.317 | Train/Valid MSE: 0.925 / 0.739\n",
            " Epoch 13 | Train/Valid loss: 58.382 / 7.625 | Train/Valid MSE: 0.915 / 0.677\n",
            " Epoch 14 | Train/Valid loss: 57.383 / 7.742 | Train/Valid MSE: 0.900 / 0.687\n",
            " Epoch 15 | Train/Valid loss: 57.149 / 7.441 | Train/Valid MSE: 0.896 / 0.661\n",
            " Epoch 16 | Train/Valid loss: 54.310 / 7.760 | Train/Valid MSE: 0.852 / 0.689\n",
            " Epoch 17 | Train/Valid loss: 54.367 / 7.296 | Train/Valid MSE: 0.852 / 0.648\n",
            " Epoch 18 | Train/Valid loss: 54.216 / 7.244 | Train/Valid MSE: 0.850 / 0.643\n",
            " Epoch 19 | Train/Valid loss: 52.427 / 7.095 | Train/Valid MSE: 0.822 / 0.630\n",
            " Epoch 20 | Train/Valid loss: 51.831 / 7.028 | Train/Valid MSE: 0.813 / 0.624\n",
            " Epoch 21 | Train/Valid loss: 51.925 / 7.046 | Train/Valid MSE: 0.814 / 0.626\n",
            " Epoch 22 | Train/Valid loss: 51.080 / 6.996 | Train/Valid MSE: 0.801 / 0.621\n",
            " Epoch 23 | Train/Valid loss: 50.278 / 7.073 | Train/Valid MSE: 0.788 / 0.628\n",
            " Epoch 24 | Train/Valid loss: 48.738 / 6.868 | Train/Valid MSE: 0.764 / 0.610\n",
            " Epoch 25 | Train/Valid loss: 47.491 / 6.781 | Train/Valid MSE: 0.745 / 0.602\n",
            " Epoch 26 | Train/Valid loss: 47.980 / 6.727 | Train/Valid MSE: 0.752 / 0.597\n",
            " Epoch 27 | Train/Valid loss: 48.110 / 6.728 | Train/Valid MSE: 0.754 / 0.597\n",
            " Epoch 28 | Train/Valid loss: 46.905 / 6.716 | Train/Valid MSE: 0.735 / 0.596\n",
            " Epoch 29 | Train/Valid loss: 46.258 / 6.615 | Train/Valid MSE: 0.725 / 0.587\n",
            " Epoch 30 | Train/Valid loss: 46.877 / 6.645 | Train/Valid MSE: 0.735 / 0.590\n",
            " Epoch 31 | Train/Valid loss: 46.543 / 6.769 | Train/Valid MSE: 0.730 / 0.601\n",
            " Epoch 32 | Train/Valid loss: 45.136 / 6.671 | Train/Valid MSE: 0.708 / 0.592\n",
            " Epoch 33 | Train/Valid loss: 43.641 / 6.562 | Train/Valid MSE: 0.684 / 0.583\n",
            " Epoch 34 | Train/Valid loss: 43.717 / 6.553 | Train/Valid MSE: 0.685 / 0.582\n",
            " Epoch 35 | Train/Valid loss: 43.197 / 6.814 | Train/Valid MSE: 0.677 / 0.605\n",
            " Epoch 36 | Train/Valid loss: 43.100 / 6.538 | Train/Valid MSE: 0.676 / 0.581\n",
            " Epoch 37 | Train/Valid loss: 42.450 / 6.560 | Train/Valid MSE: 0.666 / 0.582\n",
            " Epoch 38 | Train/Valid loss: 42.337 / 6.637 | Train/Valid MSE: 0.664 / 0.589\n",
            " Epoch 39 | Train/Valid loss: 41.534 / 6.491 | Train/Valid MSE: 0.651 / 0.576\n",
            " Epoch 40 | Train/Valid loss: 41.807 / 6.485 | Train/Valid MSE: 0.656 / 0.576\n",
            " Epoch 41 | Train/Valid loss: 41.240 / 6.471 | Train/Valid MSE: 0.647 / 0.575\n",
            " Epoch 42 | Train/Valid loss: 41.028 / 6.421 | Train/Valid MSE: 0.643 / 0.570\n",
            " Epoch 43 | Train/Valid loss: 40.909 / 6.436 | Train/Valid MSE: 0.641 / 0.572\n",
            " Epoch 44 | Train/Valid loss: 40.669 / 6.500 | Train/Valid MSE: 0.638 / 0.577\n",
            " Epoch 45 | Train/Valid loss: 40.437 / 6.398 | Train/Valid MSE: 0.634 / 0.568\n",
            " Epoch 46 | Train/Valid loss: 39.707 / 6.367 | Train/Valid MSE: 0.623 / 0.565\n",
            " Epoch 47 | Train/Valid loss: 39.635 / 6.356 | Train/Valid MSE: 0.621 / 0.564\n",
            " Epoch 48 | Train/Valid loss: 39.004 / 6.354 | Train/Valid MSE: 0.612 / 0.564\n",
            " Epoch 49 | Train/Valid loss: 37.793 / 6.366 | Train/Valid MSE: 0.593 / 0.565\n",
            " Epoch 50 | Train/Valid loss: 38.812 / 6.334 | Train/Valid MSE: 0.609 / 0.562\n",
            " Epoch 51 | Train/Valid loss: 38.226 / 6.280 | Train/Valid MSE: 0.599 / 0.558\n",
            " Epoch 52 | Train/Valid loss: 38.125 / 6.336 | Train/Valid MSE: 0.598 / 0.563\n",
            " Epoch 53 | Train/Valid loss: 37.492 / 6.353 | Train/Valid MSE: 0.588 / 0.564\n",
            " Epoch 54 | Train/Valid loss: 37.216 / 6.335 | Train/Valid MSE: 0.584 / 0.563\n",
            " Epoch 55 | Train/Valid loss: 37.028 / 6.483 | Train/Valid MSE: 0.581 / 0.576\n",
            " Epoch 56 | Train/Valid loss: 37.008 / 6.403 | Train/Valid MSE: 0.580 / 0.569\n",
            " Epoch 57 | Train/Valid loss: 36.906 / 6.561 | Train/Valid MSE: 0.579 / 0.583\n",
            " Epoch 58 | Train/Valid loss: 36.377 / 6.335 | Train/Valid MSE: 0.570 / 0.563\n",
            " Epoch 59 | Train/Valid loss: 36.508 / 6.362 | Train/Valid MSE: 0.572 / 0.565\n",
            " Epoch 60 | Train/Valid loss: 36.187 / 6.353 | Train/Valid MSE: 0.567 / 0.564\n",
            " Epoch 61 | Train/Valid loss: 36.024 / 6.353 | Train/Valid MSE: 0.565 / 0.564\n",
            " Epoch 62 | Train/Valid loss: 36.337 / 6.298 | Train/Valid MSE: 0.570 / 0.559\n",
            " Epoch 63 | Train/Valid loss: 34.725 / 6.267 | Train/Valid MSE: 0.544 / 0.557\n",
            " Epoch 64 | Train/Valid loss: 35.762 / 6.329 | Train/Valid MSE: 0.561 / 0.562\n",
            " Epoch 65 | Train/Valid loss: 34.657 / 6.345 | Train/Valid MSE: 0.543 / 0.563\n",
            " Epoch 66 | Train/Valid loss: 34.963 / 6.370 | Train/Valid MSE: 0.548 / 0.566\n",
            " Epoch 67 | Train/Valid loss: 34.368 / 6.326 | Train/Valid MSE: 0.539 / 0.562\n",
            " Epoch 68 | Train/Valid loss: 34.414 / 6.333 | Train/Valid MSE: 0.540 / 0.562\n",
            " Epoch 69 | Train/Valid loss: 34.313 / 6.311 | Train/Valid MSE: 0.538 / 0.560\n",
            " Epoch 70 | Train/Valid loss: 34.671 / 6.327 | Train/Valid MSE: 0.544 / 0.562\n",
            " Epoch 71 | Train/Valid loss: 34.035 / 6.322 | Train/Valid MSE: 0.534 / 0.561\n",
            " Epoch 72 | Train/Valid loss: 33.798 / 6.292 | Train/Valid MSE: 0.530 / 0.559\n",
            " Epoch 73 | Train/Valid loss: 33.418 / 6.305 | Train/Valid MSE: 0.524 / 0.560\n",
            " Epoch 74 | Train/Valid loss: 33.390 / 6.330 | Train/Valid MSE: 0.524 / 0.562\n",
            " Epoch 75 | Train/Valid loss: 33.713 / 6.296 | Train/Valid MSE: 0.529 / 0.559\n",
            " Epoch 76 | Train/Valid loss: 33.406 / 6.350 | Train/Valid MSE: 0.524 / 0.564\n",
            " Epoch 77 | Train/Valid loss: 32.733 / 6.396 | Train/Valid MSE: 0.513 / 0.568\n",
            " Epoch 78 | Train/Valid loss: 32.840 / 6.341 | Train/Valid MSE: 0.515 / 0.563\n",
            " Epoch 79 | Train/Valid loss: 32.764 / 6.355 | Train/Valid MSE: 0.514 / 0.564\n",
            " Epoch 80 | Train/Valid loss: 32.528 / 6.360 | Train/Valid MSE: 0.510 / 0.565\n",
            " Epoch 81 | Train/Valid loss: 32.086 / 6.324 | Train/Valid MSE: 0.503 / 0.562\n",
            " Epoch 82 | Train/Valid loss: 32.344 / 6.365 | Train/Valid MSE: 0.507 / 0.565\n",
            " Epoch 83 | Train/Valid loss: 31.943 / 6.343 | Train/Valid MSE: 0.501 / 0.563\n",
            " Epoch 84 | Train/Valid loss: 31.944 / 6.478 | Train/Valid MSE: 0.501 / 0.575\n",
            " Epoch 85 | Train/Valid loss: 31.969 / 6.384 | Train/Valid MSE: 0.501 / 0.567\n",
            " Epoch 86 | Train/Valid loss: 31.851 / 6.391 | Train/Valid MSE: 0.499 / 0.568\n",
            " Epoch 87 | Train/Valid loss: 31.461 / 6.413 | Train/Valid MSE: 0.493 / 0.569\n",
            " Epoch 88 | Train/Valid loss: 31.395 / 6.355 | Train/Valid MSE: 0.492 / 0.564\n",
            " Epoch 89 | Train/Valid loss: 31.005 / 6.326 | Train/Valid MSE: 0.486 / 0.562\n"
          ]
        }
      ]
    },
    {
      "cell_type": "markdown",
      "source": [
        "# 3. Gráficas\n",
        "Graficar las evoluciones de las funciones de costo en entrenamiento y validacion, como asi tambien las metricas de validacion. Explicar los resultados obtenidos."
      ],
      "metadata": {
        "id": "BC7k8-Ha6ORK"
      }
    },
    {
      "cell_type": "code",
      "source": [
        "fig, ([ax1, ax2], [ax3, ax4]) = plt.subplots(2, 2, figsize=(12, 10))\n",
        "\n",
        "# MSE\n",
        "ax2.plot(train_mse_by_epoch, label=\"Train MSE\", color='blue')\n",
        "ax2.plot(valid_mse_by_epoch, label=\"Validation MSE\", color='orange')\n",
        "ax2.set_title(\"Mean Squared Error (MSE) by Epoch\")\n",
        "ax2.set_xlabel(\"Epoch\")\n",
        "ax2.set_ylabel(\"MSE\")\n",
        "ax2.legend()\n",
        "\n",
        "# MAE\n",
        "ax4.plot(train_mae_by_epoch, label=\"Train MAE\", color='blue')\n",
        "ax4.plot(valid_mae_by_epoch, label=\"Validation MAE\", color='orange')\n",
        "ax4.set_title(\"Mean Absolute Error (MAE) by Epoch\")\n",
        "ax4.set_xlabel(\"Epoch\")\n",
        "ax4.set_ylabel(\"MAE\")\n",
        "ax4.legend()\n",
        "\n",
        "# R2\n",
        "ax3.plot(train_r2_by_epoch, label=\"Train R2\", color='blue')\n",
        "ax3.plot(valid_r2_by_epoch, label=\"Validation R2\", color='orange')\n",
        "ax3.set_title(\"R-squared (R2) by Epoch\")\n",
        "ax3.set_xlabel(\"Epoch\")\n",
        "ax3.set_ylabel(\"R2\")\n",
        "ax3.legend()\n",
        "\n",
        "# Loss\n",
        "ax1.plot(train_loss_by_epoch, label=\"Train Loss\", color='blue')\n",
        "ax1.plot(valid_loss_by_epoch, label=\"Validation Loss\", color='orange')\n",
        "ax1.set_title(\"Loss by Epoch\")\n",
        "ax1.set_xlabel(\"Epoch\")\n",
        "ax1.set_ylabel(\"Loss\")\n",
        "ax1.legend()\n",
        "\n",
        "plt.tight_layout()\n",
        "plt.show()\n"
      ],
      "metadata": {
        "colab": {
          "base_uri": "https://localhost:8080/",
          "height": 1000
        },
        "id": "9qQ8BJn7eoBr",
        "outputId": "e2647945-92f5-4631-dc62-4e66251ce107"
      },
      "execution_count": 187,
      "outputs": [
        {
          "output_type": "display_data",
          "data": {
            "text/plain": [
              "<Figure size 1200x1000 with 4 Axes>"
            ],
            "image/png": "[encoded data removed]"
          },
          "metadata": {}
        }
      ]
    },
    {
      "cell_type": "code",
      "source": [
        "i = configs[\"epochs\"]-1\n",
        "\n",
        "print(f\"Métricas para el epoch {i}\")\n",
        "print(\"----------------\")\n",
        "print(\"----------------\")\n",
        "print(\"Train MSE: \",train_mse_by_epoch[i])\n",
        "print(\"Valid MSE: \",valid_mse_by_epoch[i])\n",
        "print(\"----------------\")\n",
        "print(\"Train RMSE: \",np.sqrt(train_mse_by_epoch[i]))\n",
        "print(\"Valid RMSE: \",np.sqrt(valid_mse_by_epoch[i]))\n",
        "print(\"----------------\")\n",
        "print(\"Train MAE: \",train_mae_by_epoch[i])\n",
        "print(\"Valid MAE: \",valid_mae_by_epoch[i])\n",
        "print(\"----------------\")\n",
        "print(\"Train R2: \",train_r2_by_epoch[i])\n",
        "print(\"Valid R2: \",valid_r2_by_epoch[i])"
      ],
      "metadata": {
        "colab": {
          "base_uri": "https://localhost:8080/"
        },
        "id": "YEJgQBP1rCE_",
        "outputId": "c2d61a3a-8e7d-486c-8e62-bfef07a6b4b8"
      },
      "execution_count": 188,
      "outputs": [
        {
          "output_type": "stream",
          "name": "stdout",
          "text": [
            "Métricas para el epoch 89\n",
            "----------------\n",
            "----------------\n",
            "Train MSE:  0.48615834\n",
            "Valid MSE:  0.56176496\n",
            "----------------\n",
            "Train RMSE:  0.69725055\n",
            "Valid RMSE:  0.7495098\n",
            "----------------\n",
            "Train MAE:  0.54244816\n",
            "Valid MAE:  0.57366514\n",
            "----------------\n",
            "Train R2:  0.370973118111641\n",
            "Valid R2:  0.3170030709759706\n"
          ]
        }
      ]
    },
    {
      "cell_type": "markdown",
      "source": [
        "- Se puede observar en las curvas y en las métricas que el modelo no llega a adquirir el comportamiento de overfitting. Esto se logró probando distintos hiperparámetros y modificando el número de epocas. También ayudó variar las dimensiones de los embeddings y agregar capas de dropout posteriores a cada función de activación.\n",
        "\n",
        "- No se observa gran diferencia entre las curvas y métricas de validación y entrenamiento (para las últimas épocas) por lo que se puede plantear que el modelo está performando de manera similar en ambos conjunto de datos, es decir, está generalizando."
      ],
      "metadata": {
        "id": "_-Bjau0v8F2R"
      }
    },
    {
      "cell_type": "markdown",
      "source": [
        "# 4. Predicción\n",
        "Construir una funcion capaz de recibir un usuario al azar, una cantidad \"p\" de películas que dicho usuario haya puntuado y verificar la predicción del modelo. Comparar con los puntajes reales contra los que el usuario asignó a dicha/s película/s."
      ],
      "metadata": {
        "id": "b5ENnmcs70ko"
      }
    },
    {
      "cell_type": "markdown",
      "source": [
        "Se va a trabajar con el dataset de validación para que el modelo no prediga datos con los que entrenó"
      ],
      "metadata": {
        "id": "RL0_j53lcNCJ"
      }
    },
    {
      "cell_type": "code",
      "source": [
        "def predictions(user_id, p, dataset, model, device):\n",
        "    \"\"\"\n",
        "    Verifica las predicciones del modelo para un usuario específico y compara con los puntajes reales.\n",
        "\n",
        "    Args:\n",
        "    - user_id (int): Indice del embedding de usuario a verificar.\n",
        "    - p (int): Cantidad de películas a considerar.\n",
        "    - dataset (Dataset): Dataset que contiene los datos.\n",
        "    - model (torch.nn.Module): Modelo entrenado.\n",
        "    - device (torch.device): Dispositivo en el que se encuentra el modelo.\n",
        "\n",
        "    Returns:\n",
        "    - None: Imprime las predicciones y los puntajes reales.\n",
        "    \"\"\"\n",
        "    # Filtrar las películas puntuadas por el usuario\n",
        "    user_indices = np.where(dataset.user_idx == user_id)[0]\n",
        "\n",
        "    # Seleccionar p películas aleatorias\n",
        "    if len(user_indices) < p:\n",
        "        raise ValueError(f\"El usuario {user_id} tiene menos de {p} películas puntuadas.\")\n",
        "\n",
        "    sampled_indices = np.random.choice(user_indices, p, replace=False)\n",
        "\n",
        "    # dataset para estas películas\n",
        "    x_batch = [dataset.x[i] for i in sampled_indices]\n",
        "    user_batch = [dataset.user_idx[i] for i in sampled_indices]\n",
        "    movie_batch = [dataset.movie_idx[i] for i in sampled_indices]\n",
        "    y_batch = [dataset.y[i] for i in sampled_indices]\n",
        "\n",
        "    # to tensor y mover al dispositivo\n",
        "    x_batch = torch.tensor(x_batch, dtype=torch.float32).to(device)\n",
        "    user_batch = torch.tensor(user_batch, dtype=torch.int64).to(device)\n",
        "    movie_batch = torch.tensor(movie_batch, dtype=torch.int64).to(device)\n",
        "    y_batch = torch.tensor(y_batch, dtype=torch.float32).reshape(-1, 1).to(device)\n",
        "\n",
        "    # Predicciones\n",
        "    model.eval()  # Cambiar a modo de evaluación\n",
        "    with torch.no_grad():\n",
        "        y_pred = model(x_batch, user_batch, movie_batch)\n",
        "\n",
        "    # Mover los resultados a CPU y convertir a numpy arrays\n",
        "    y_pred = y_pred.cpu().numpy()\n",
        "    y_batch = y_batch.cpu().numpy()\n",
        "\n",
        "\n",
        "    for i in range(p):\n",
        "        print(f\"Película {i+1}:\")\n",
        "        print(f\"  Puntaje real: {y_batch[i][0]:.2f}\")\n",
        "        print(f\"  Predicción: {y_pred[i][0]:.2f}\")\n",
        "        print(f\" movie_idx: {movie_batch[i].item()}\")\n",
        "        print()\n",
        "\n",
        "    return None"
      ],
      "metadata": {
        "id": "Y-7hJvMXbMMD"
      },
      "execution_count": 189,
      "outputs": []
    },
    {
      "cell_type": "code",
      "source": [
        "p = 5\n",
        "random_user_idx = np.random.choice(valid_ds_embeddings.user_idx)\n",
        "#random_user_id = np.random.choice(df_filtered['userId'].unique())\n",
        "idx_to_user_id = {v: k for k, v in user_id_to_idx.items()}\n",
        "random_user_id = idx_to_user_id[random_user_idx]\n",
        "\n",
        "print(\"Usuario: \",random_user_id, \" | user_idx:\",random_user_idx)\n",
        "print(\"----------\")\n",
        "predictions(random_user_idx, p, valid_ds_embeddings, nnnetWithEmbeddings, device)"
      ],
      "metadata": {
        "colab": {
          "base_uri": "https://localhost:8080/"
        },
        "id": "qCzy3P9IbRYg",
        "outputId": "91801e3f-ce42-44cb-e155-7666d9e085b3"
      },
      "execution_count": 190,
      "outputs": [
        {
          "output_type": "stream",
          "name": "stdout",
          "text": [
            "Usuario:  480  | user_idx: 47\n",
            "----------\n",
            "Película 1:\n",
            "  Puntaje real: 4.50\n",
            "  Predicción: 4.17\n",
            " movie_idx: 125\n",
            "\n",
            "Película 2:\n",
            "  Puntaje real: 4.00\n",
            "  Predicción: 3.76\n",
            " movie_idx: 89\n",
            "\n",
            "Película 3:\n",
            "  Puntaje real: 4.00\n",
            "  Predicción: 3.21\n",
            " movie_idx: 79\n",
            "\n",
            "Película 4:\n",
            "  Puntaje real: 3.00\n",
            "  Predicción: 3.72\n",
            " movie_idx: 105\n",
            "\n",
            "Película 5:\n",
            "  Puntaje real: 3.00\n",
            "  Predicción: 3.37\n",
            " movie_idx: 41\n",
            "\n"
          ]
        }
      ]
    },
    {
      "cell_type": "markdown",
      "source": [
        "# 5. Recomendación\n",
        "\n",
        "Contruir una funcion capaz de realizar una recomendación de película para un usuario determinado utilizando los embeddings de usuario o los embeddings de películas. Comprobar si la recomendación es correcta haciendo una predicción del puntuaje con la red neuronal."
      ],
      "metadata": {
        "id": "GLM4evm_c1Pi"
      }
    },
    {
      "cell_type": "markdown",
      "source": [
        "### Recomendación utilizando el embedding de películas\n",
        "\n",
        "Esta metodología se basa en encontrar películas similares en el espacio de embeddings y recomendar las que sean más parecidas a las películas que el usuario ya ha calificado positivamente.\n",
        "Para ello se va a utilizar la matríz de embeddings creada y actualizada con la red neuronal. Esto nos devuelve los vectores de embeddings (que se mueven en un espacio de sies dimensiones). Y lo que se va a buscar es aplicar una función que permita encontrar vectores similares a los vectores que responden a las películas calificadas positivamente.\n",
        "\n",
        "La función elegida se llama \"Cosine Similarity\", la cual calcula el ángulo entre dos vectores y se obtuvo del siguiente artículo: https://medium.com/@chenycy/build-recommendation-systems-openais-embeddings-matrix-factorization-and-deep-learning-0cac62008f0c"
      ],
      "metadata": {
        "id": "2lv6aCkWd_eY"
      }
    },
    {
      "cell_type": "code",
      "source": [
        "from sklearn.metrics.pairwise import cosine_similarity"
      ],
      "metadata": {
        "id": "FDZRMaZ6e3q8"
      },
      "execution_count": 191,
      "outputs": []
    },
    {
      "cell_type": "code",
      "source": [
        "# Diccionario de ratings\n",
        "user_movie_ratings = df_filtered[df_filtered['userId'] == random_user_id].set_index('movieId')['rating'].to_dict()"
      ],
      "metadata": {
        "id": "lC6VoC_QgbBZ"
      },
      "execution_count": 192,
      "outputs": []
    },
    {
      "cell_type": "code",
      "source": [
        "# matriz de embeddings de peliculas\n",
        "movie_embeddings = nnnetWithEmbeddings.embeddings_movies.weight.data.cpu()"
      ],
      "metadata": {
        "id": "-cqa9V9En2j6"
      },
      "execution_count": 193,
      "outputs": []
    },
    {
      "cell_type": "code",
      "source": [
        "def movie_recomendations(user_movie_ratings, movie_embeddings, movie_id_to_idx, k=5):\n",
        "    \"\"\"\n",
        "    Recomienda películas no calificadas por el usuario, basado en embeddings de películas.\n",
        "\n",
        "    Args:\n",
        "    - user_movie_ratings: Diccionario donde las claves son los IDs de las películas y los valores son las calificaciones dadas por el usuario.\n",
        "    - movie_embeddings: Matriz de embeddings de películas.\n",
        "    - movie_id_to_idx: Diccionario donde las claves son los IDs de las películas y son los indices de la metriz de embeddings de películas.\n",
        "    - k: Número de recomendaciones a realizar.\n",
        "\n",
        "    Returns:\n",
        "    - Lista de IDs de películas recomendadas.\n",
        "    \"\"\"\n",
        "    # Obtener los embeddings de las películas que el usuario ha calificado positivamente\n",
        "    peliculas_positivas = [movie_id for movie_id, rating in user_movie_ratings.items() if rating >= 4.0]\n",
        "    peliculas_positivas_idx = [movie_id_to_idx[movie_id] for movie_id in peliculas_positivas]\n",
        "    embeddings_positivos = movie_embeddings[peliculas_positivas_idx]\n",
        "\n",
        "    # Calcular la similitud entre los embeddings de películas positivas y todos los embeddings de películas\n",
        "    similitudes = cosine_similarity(embeddings_positivos, movie_embeddings)\n",
        "\n",
        "    # Promediar las similitudes para obtener una puntuación para cada película\n",
        "    similitudes_promedio = np.mean(similitudes, axis=0)\n",
        "\n",
        "    # Ordenar las películas por similitud en orden descendente\n",
        "    peliculas_ordenadas = np.argsort(similitudes_promedio)[::-1]\n",
        "\n",
        "    # Filtrar películas ya calificadas\n",
        "    peliculas_recomendadas = [pelicula for pelicula in peliculas_ordenadas if pelicula not in user_movie_ratings]\n",
        "\n",
        "    return peliculas_recomendadas[:k]"
      ],
      "metadata": {
        "id": "D1tuc_A-d-O7"
      },
      "execution_count": 194,
      "outputs": []
    },
    {
      "cell_type": "code",
      "source": [
        "recomendations = movie_recomendations(user_movie_ratings = user_movie_ratings, movie_embeddings = movie_embeddings, movie_id_to_idx=movie_id_to_idx, k=4)\n",
        "print(f\"El usuario {random_user_id} recibio las siguiente recomendaciones: {recomendations}\")"
      ],
      "metadata": {
        "colab": {
          "base_uri": "https://localhost:8080/"
        },
        "id": "UV8Cw18UfmMg",
        "outputId": "08f6af08-62ba-442a-c20c-4a84e0f10bad"
      },
      "execution_count": 196,
      "outputs": [
        {
          "output_type": "stream",
          "name": "stdout",
          "text": [
            "El usuario 480 recibio las siguiente recomendaciones: [90, 78, 81, 131]\n"
          ]
        }
      ]
    },
    {
      "cell_type": "markdown",
      "source": [
        "### Verificación\n",
        "\n",
        "- Hacemos predecir la red neuronal para estas predicciones. La regresión sobre los ratings debería alcanzar valores cercanos a 4.0 para cada película.\n",
        "Para ello debemos armar un nuevo DatasetWithEmbeddings para este las **recomendations**."
      ],
      "metadata": {
        "id": "vMlkAWEZt02o"
      }
    },
    {
      "cell_type": "markdown",
      "source": [
        "- Hay que hacer un pequeño ajuste para evitar errores con la función de predict. Se fijan los valores del embedding de user_idx y se debe ignorar el print de y_batch"
      ],
      "metadata": {
        "id": "9XEJZCgd78W6"
      }
    },
    {
      "cell_type": "code",
      "source": [
        "new_ds = valid_ds_embeddings[valid_ds_embeddings.user_idx == random_user_idx]"
      ],
      "metadata": {
        "id": "lsOGkIZDCmkb"
      },
      "execution_count": 203,
      "outputs": []
    },
    {
      "cell_type": "code",
      "source": [
        "# Nuevo dataset para predecir las recomendaciones\n",
        "new_ds = valid_ds_embeddings[valid_ds_embeddings.user_idx == random_user_idx]\n",
        "\n",
        "x = new_ds[0][0:len(recomendations)]\n",
        "user_idx =  np.array([random_user_idx] * len(recomendations))\n",
        "movie_idx = np.array(recomendations)\n",
        "y = np.array([0] * len(recomendations)) #valores inventados\n",
        "\n",
        "new_ds = MyDatasetWithEmbddings(x, user_idx, movie_idx, y)"
      ],
      "metadata": {
        "id": "MhzHojXD09PM"
      },
      "execution_count": 219,
      "outputs": []
    },
    {
      "cell_type": "code",
      "source": [
        "print(\"Usuario: \",random_user_id)\n",
        "print(\"----------\")\n",
        "predictions(random_user_idx, len(new_ds.movie_idx), new_ds, nnnetWithEmbeddings, device)"
      ],
      "metadata": {
        "colab": {
          "base_uri": "https://localhost:8080/"
        },
        "id": "WSMZ9CXt3aE3",
        "outputId": "5ce29ede-0b8e-4a3b-dda4-888907f95db3"
      },
      "execution_count": 220,
      "outputs": [
        {
          "output_type": "stream",
          "name": "stdout",
          "text": [
            "Usuario:  480\n",
            "----------\n",
            "Película 1:\n",
            "  Puntaje real: 0.00\n",
            "  Predicción: 3.83\n",
            " movie_idx: 131\n",
            "\n",
            "Película 2:\n",
            "  Puntaje real: 0.00\n",
            "  Predicción: 4.08\n",
            " movie_idx: 90\n",
            "\n",
            "Película 3:\n",
            "  Puntaje real: 0.00\n",
            "  Predicción: 3.90\n",
            " movie_idx: 81\n",
            "\n",
            "Película 4:\n",
            "  Puntaje real: 0.00\n",
            "  Predicción: 3.86\n",
            " movie_idx: 78\n",
            "\n"
          ]
        }
      ]
    },
    {
      "cell_type": "markdown",
      "source": [
        "- Se observan valores de predicción altos (cercanos a 4.0) para las predicciones que recibió el usuario random."
      ],
      "metadata": {
        "id": "9PjEr9aJDsTw"
      }
    },
    {
      "cell_type": "markdown",
      "source": [
        "# 6. Tunning\n",
        "\n",
        "Con el mejor modelo obtenido del punto 2, elegir al menos 3 hiperparametros y aplicar algun metodo de tuneo. Explicar resultados obtenidos."
      ],
      "metadata": {
        "id": "Q8Iza2vfdBT2"
      }
    },
    {
      "cell_type": "markdown",
      "source": [
        "- Random search mediante np.random.choice"
      ],
      "metadata": {
        "id": "dsOSyEZxwcA5"
      }
    },
    {
      "cell_type": "code",
      "source": [
        "# Definir los valores posibles para cada hiperparámetro\n",
        "lr_values = np.linspace(0.0001,0.02,15)\n",
        "weight_decay_values = np.linspace(0.0005,0.01,15)\n",
        "epochs_values = [85] # [50, 69, 85, 100]\n",
        "emb_dim_us_values = [4, 5] # [4, 5, 6, 8]\n",
        "emb_dim_mov_values = [4, 5] # [4, 5, 6, 8]\n",
        "\n",
        "# Generar combinaciones aleatorias de hiperparámetros\n",
        "np.random.seed(12)\n",
        "random_lr = np.random.choice(lr_values, size=5) #size=10\n",
        "random_weight_decay = np.random.choice(weight_decay_values, size=5)\n",
        "random_epochs = np.random.choice(epochs_values, size=5)\n",
        "random_emb_dim_us = np.random.choice(emb_dim_us_values, size=5)\n",
        "random_emb_dim_mov = np.random.choice(emb_dim_mov_values, size=5)\n",
        "\n",
        "# Lista para almacenar los resultados\n",
        "results = []\n",
        "\n",
        "for lr, weight_decay, epochs, emb_dim_us, emb_dim_mov in zip(random_lr, random_weight_decay, random_epochs, random_emb_dim_us, random_emb_dim_mov):\n",
        "\n",
        "    configs['lr'] = lr\n",
        "    configs['weight_decay'] = weight_decay\n",
        "    epoch_count = epochs\n",
        "    configs['emb_dim_us'] = emb_dim_us\n",
        "    configs['emb_dim_mov'] = emb_dim_mov\n",
        "\n",
        "    # Inicializar el modelo, el optimizador y la función de pérdida\n",
        "    nnnetWithEmbeddings = NNetWithEmbeddings(configs[\"emb_dim_us\"], configs[\"emb_dim_mov\"]).to(device)\n",
        "    loss_function = torch.nn.MSELoss(reduction='sum')\n",
        "    optimizer = torch.optim.Adam(nnnetWithEmbeddings.parameters(), lr=configs[\"lr\"], weight_decay=configs[\"weight_decay\"])\n",
        "\n",
        "    valid_mse_by_epoch = []\n",
        "\n",
        "    for epoch in range(epoch_count):\n",
        "        # Entrenamiento\n",
        "        nnnetWithEmbeddings.train(True)\n",
        "        epoch_loss = 0\n",
        "        epoch_y_hat = []\n",
        "        epoch_y = []\n",
        "\n",
        "        for i, data in enumerate(train_dataloader_emb):\n",
        "            x_batch, embed_user_batch, embed_movie_batch, y_batch = data\n",
        "            x_batch, embed_user_batch, embed_movie_batch, y_batch = x_batch.to(device).float(), embed_user_batch.to(device).int(), embed_movie_batch.to(device).int(), y_batch.to(device).float().reshape(-1, 1)\n",
        "\n",
        "            optimizer.zero_grad()\n",
        "            nnet_output = nnnetWithEmbeddings(x_batch, embed_user_batch, embed_movie_batch)\n",
        "            loss = loss_function(nnet_output, y_batch)\n",
        "            loss.backward()\n",
        "            optimizer.step()\n",
        "\n",
        "            epoch_y += list(y_batch.detach().cpu().numpy())\n",
        "            epoch_y_hat += list(nnet_output.detach().cpu().numpy())\n",
        "            epoch_loss += loss.item()\n",
        "\n",
        "        valid_epoch_loss = 0\n",
        "        valid_epoch_y_hat = []\n",
        "        valid_epoch_y = []\n",
        "\n",
        "        nnnetWithEmbeddings.train(False)\n",
        "\n",
        "        for i, data in enumerate(valid_dataloader_emb):\n",
        "            x_batch, embed_user_batch, embed_movie_batch, y_batch = data\n",
        "            x_batch, embed_user_batch, embed_movie_batch, y_batch = x_batch.to(device).float(), embed_user_batch.to(device).int(), embed_movie_batch.to(device).int(), y_batch.to(device).float().reshape(-1, 1)\n",
        "\n",
        "            nnet_output = nnnetWithEmbeddings(x_batch, embed_user_batch, embed_movie_batch)\n",
        "            loss = loss_function(nnet_output, y_batch)\n",
        "\n",
        "            valid_epoch_y += list(y_batch.detach().cpu().numpy())\n",
        "            valid_epoch_y_hat += list(nnet_output.detach().cpu().numpy())\n",
        "            valid_epoch_loss += loss.item()\n",
        "\n",
        "        valid_epoch_loss /= len(valid_dataloader_emb)\n",
        "        valid_mse = metrics.mean_squared_error(valid_epoch_y, valid_epoch_y_hat)\n",
        "        valid_mse_by_epoch.append(valid_mse)\n",
        "\n",
        "    avg_valid_mse = sum(valid_mse_by_epoch) / len(valid_mse_by_epoch)\n",
        "    last_valid_mse = valid_mse_by_epoch[-1]\n",
        "\n",
        "    results.append({'lr': lr, 'weight_decay': weight_decay, 'epochs': epochs, 'last_valid_mse': last_valid_mse, 'avg_valid_mse': avg_valid_mse, 'emb_dim_us': emb_dim_us, 'emb_dim_mov': emb_dim_mov})\n",
        "    print(f\"{len(results)} - Parámetros: lr={lr}, weight_decay={weight_decay}, epochs={epochs}, emb_dim_us={emb_dim_us}, emb_dim_mov={emb_dim_mov}. Last_MSE: {last_valid_mse}, Avg_MSE: {avg_valid_mse}\")\n",
        "\n",
        "# Resultados\n",
        "best_result = min(results, key=lambda x: x['last_valid_mse'])\n",
        "print(f\"Mejores parámetros: lr={best_result['lr']}, weight_decay={best_result['weight_decay']}, epochs={best_result['epochs']}, emb_dim_us={best_result['emb_dim_us']}, emb_dim_mov={best_result['emb_dim_mov']} con MSE promedio de validación: {best_result['avg_valid_mse']:.3f} y con  MSE={best_result['last_valid_mse']:.3f} en la última época\")\n"
      ],
      "metadata": {
        "colab": {
          "base_uri": "https://localhost:8080/"
        },
        "id": "LjqLgs78xU9N",
        "outputId": "98053f64-f5b1-48a0-a562-3af00c09eeee"
      },
      "execution_count": 222,
      "outputs": [
        {
          "output_type": "stream",
          "name": "stdout",
          "text": [
            "1 - Parámetros: lr=0.015735714285714287, weight_decay=0.0018571428571428571, epochs=85, emb_dim_us=4, emb_dim_mov=5. Last_MSE: 0.6259653568267822, Avg_MSE: 0.6127640289418838\n",
            "2 - Parámetros: lr=0.015735714285714287, weight_decay=0.0025357142857142857, epochs=85, emb_dim_us=5, emb_dim_mov=4. Last_MSE: 0.624031662940979, Avg_MSE: 0.6185210795963512\n",
            "3 - Parámetros: lr=0.008628571428571428, weight_decay=0.0025357142857142857, epochs=85, emb_dim_us=4, emb_dim_mov=5. Last_MSE: 0.6176291108131409, Avg_MSE: 0.6118192448335535\n",
            "4 - Parámetros: lr=0.01857857142857143, weight_decay=0.008642857142857143, epochs=85, emb_dim_us=5, emb_dim_mov=4. Last_MSE: 0.6200925707817078, Avg_MSE: 0.6160925858161028\n",
            "5 - Parámetros: lr=0.0015214285714285716, weight_decay=0.0005, epochs=85, emb_dim_us=5, emb_dim_mov=4. Last_MSE: 0.5665549635887146, Avg_MSE: 0.6150061705533196\n",
            "Mejores parámetros: lr=0.0015214285714285716, weight_decay=0.0005, epochs=85, emb_dim_us=5, emb_dim_mov=4 con MSE promedio de validación: 0.615 y con  MSE=0.567 en la última época\n"
          ]
        }
      ]
    },
    {
      "cell_type": "markdown",
      "source": [
        "- Los resultados de la búsqueda de hiperparámetros permiten identificar que la performance mejora con las siguiente condiciones:\n",
        "  - Tasa de aprendizaje bajo, entre 0.001 y 0.01.\n",
        "  - Decaimiento de los pesos bajo, incluso menor al tasa de aprendizaje.\n",
        "    - Se observa que el mejor parámetro fue 0.0005, el cual es el límite inferior del vector de opciones. Se puede seguir iterando con valores menores para mejorar la performance.\n",
        "  - Embeddings de dimensiones acotadas. Con dimensiones muy altas empeora la performance.\n",
        "  - Epochs acotados para no forzar un overfit."
      ],
      "metadata": {
        "id": "KEcBcuk9j44F"
      }
    }
  ]
}